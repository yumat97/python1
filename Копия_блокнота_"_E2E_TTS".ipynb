{
  "nbformat": 4,
  "nbformat_minor": 0,
  "metadata": {
    "colab": {
      "name": "Копия блокнота \" E2E-TTS\"",
      "provenance": [],
      "collapsed_sections": [],
      "include_colab_link": true
    },
    "kernelspec": {
      "name": "python3",
      "display_name": "Python 3"
    },
    "accelerator": "GPU"
  },
  "cells": [
    {
      "cell_type": "markdown",
      "metadata": {
        "id": "view-in-github",
        "colab_type": "text"
      },
      "source": [
        "<a href=\"https://colab.research.google.com/github/yumat97/python1/blob/master/%D0%9A%D0%BE%D0%BF%D0%B8%D1%8F_%D0%B1%D0%BB%D0%BE%D0%BA%D0%BD%D0%BE%D1%82%D0%B0_%22_E2E_TTS%22.ipynb\" target=\"_parent\"><img src=\"https://colab.research.google.com/assets/colab-badge.svg\" alt=\"Open In Colab\"/></a>"
      ]
    },
    {
      "cell_type": "markdown",
      "metadata": {
        "id": "SMSw_r1uRm4a"
      },
      "source": [
        "[![Open In Colab](https://colab.research.google.com/assets/colab-badge.svg)](https://colab.research.google.com/github/espnet/notebook/blob/master/tts_realtime_demo.ipynb)"
      ]
    },
    {
      "cell_type": "markdown",
      "metadata": {
        "id": "MuhqhYSToxl7"
      },
      "source": [
        "# ESPnet real time E2E-TTS demonstration\n",
        "\n",
        "This notebook provides a demonstration of the realtime E2E-TTS using ESPnet-TTS and ParallelWaveGAN (+ MelGAN).\n",
        "\n",
        "- ESPnet: https://github.com/espnet/espnet\n",
        "- ParallelWaveGAN: https://github.com/kan-bayashi/ParallelWaveGAN"
      ]
    },
    {
      "cell_type": "markdown",
      "metadata": {
        "id": "9e_i_gdgAFNJ"
      },
      "source": [
        "## Install"
      ]
    },
    {
      "cell_type": "code",
      "metadata": {
        "id": "fjJ5zkyaoy29",
        "colab": {
          "base_uri": "https://localhost:8080/"
        },
        "outputId": "1dc9ac0d-e487-4cf3-899b-660acee842fa"
      },
      "source": [
        "# install minimal components\n",
        "!pip install -q parallel_wavegan PyYaml unidecode ConfigArgparse g2p_en espnet_tts_frontend\n",
        "!git clone -q https://github.com/espnet/espnet.git\n",
        "!cd espnet && git fetch && git checkout -b v.0.9.1 refs/tags/v.0.9.1"
      ],
      "execution_count": null,
      "outputs": [
        {
          "output_type": "stream",
          "text": [
            "\u001b[K     |████████████████████████████████| 51kB 3.9MB/s \n",
            "\u001b[K     |████████████████████████████████| 245kB 7.1MB/s \n",
            "\u001b[K     |████████████████████████████████| 51kB 7.4MB/s \n",
            "\u001b[K     |████████████████████████████████| 3.1MB 12.1MB/s \n",
            "\u001b[K     |████████████████████████████████| 122kB 51.9MB/s \n",
            "\u001b[K     |████████████████████████████████| 184kB 53.1MB/s \n",
            "\u001b[K     |████████████████████████████████| 1.3MB 51.9MB/s \n",
            "\u001b[?25h  Building wheel for parallel-wavegan (setup.py) ... \u001b[?25l\u001b[?25hdone\n",
            "  Building wheel for ConfigArgparse (setup.py) ... \u001b[?25l\u001b[?25hdone\n",
            "  Building wheel for kaldiio (setup.py) ... \u001b[?25l\u001b[?25hdone\n",
            "  Building wheel for distance (setup.py) ... \u001b[?25l\u001b[?25hdone\n",
            "  Building wheel for jaconv (setup.py) ... \u001b[?25l\u001b[?25hdone\n",
            "Switched to a new branch 'v.0.9.1'\n"
          ],
          "name": "stdout"
        }
      ]
    },
    {
      "cell_type": "markdown",
      "metadata": {
        "id": "3lMJyJcLCsd4"
      },
      "source": [
        "\n",
        "\n",
        "---\n",
        "## English demo\n"
      ]
    },
    {
      "cell_type": "markdown",
      "metadata": {
        "id": "C1a5CgX1AHXJ"
      },
      "source": [
        "### Download pretrained feature generation model\n",
        "\n",
        "You can select one from three models. Please only run the seletected model cells.\n"
      ]
    },
    {
      "cell_type": "markdown",
      "metadata": {
        "id": "rWaOkhGVQNla"
      },
      "source": [
        "#### (a) Tacotron2"
      ]
    },
    {
      "cell_type": "code",
      "metadata": {
        "id": "mCM9Eo2cPXhZ",
        "colab": {
          "base_uri": "https://localhost:8080/"
        },
        "outputId": "2396332e-6af7-4c36-b9fb-b38df8d9b0b4"
      },
      "source": [
        "# download pretrained model\n",
        "import os\n",
        "if not os.path.exists(\"downloads/en/tacotron2\"):\n",
        "    !./espnet/utils/download_from_google_drive.sh \\\n",
        "        https://drive.google.com/open?id=1lFfeyewyOsxaNO-DEWy9iSz6qB9ZS1UR downloads/en/tacotron2 tar.gz\n",
        "\n",
        "# set path\n",
        "trans_type = \"phn\"\n",
        "dict_path = \"downloads/en/tacotron2/data/lang_1phn/phn_train_no_dev_units.txt\"\n",
        "model_path = \"downloads/en/tacotron2/exp/phn_train_no_dev_pytorch_train_pytorch_tacotron2.v3/results/model.last1.avg.best\"\n",
        "\n",
        "print(\"sucessfully finished download.\")"
      ],
      "execution_count": null,
      "outputs": [
        {
          "output_type": "stream",
          "text": [
            "Downloading...\n",
            "From: https://drive.google.com/uc?id=1lFfeyewyOsxaNO-DEWy9iSz6qB9ZS1UR\n",
            "To: /content/downloads/en/tacotron2/HQyN5x.tar.gz\n",
            "97.0MB [00:01, 60.0MB/s]\n",
            "conf/tuning/train_pytorch_tacotron2.v3.yaml\n",
            "conf/decode.yaml\n",
            "data/phn_train_no_dev/cmvn.ark\n",
            "exp/phn_train_no_dev_pytorch_train_pytorch_tacotron2.v3/results/model.last1.avg.best\n",
            "exp/phn_train_no_dev_pytorch_train_pytorch_tacotron2.v3/results/model.json\n",
            "data/lang_1phn/phn_train_no_dev_units.txt\n",
            "Sucessfully downloaded tar.gz file from https://drive.google.com/open?id=1lFfeyewyOsxaNO-DEWy9iSz6qB9ZS1UR\n",
            "sucessfully finished download.\n"
          ],
          "name": "stdout"
        }
      ]
    },
    {
      "cell_type": "markdown",
      "metadata": {
        "id": "Z6dhfhcrQI6_"
      },
      "source": [
        "#### (b) Transformer"
      ]
    },
    {
      "cell_type": "code",
      "metadata": {
        "id": "ztWZjy_XOPZR",
        "colab": {
          "base_uri": "https://localhost:8080/"
        },
        "outputId": "88bd7036-b674-4467-97fe-43bf34af7a51"
      },
      "source": [
        "# download pretrained model\n",
        "import os\n",
        "if not os.path.exists(\"downloads/en/transformer\"):\n",
        "    !./espnet/utils/download_from_google_drive.sh \\\n",
        "        https://drive.google.com/open?id=1z8KSOWVBjK-_Ws4RxVN4NTx-Buy03-7c downloads/en/transformer tar.gz\n",
        "\n",
        "# set path\n",
        "trans_type = \"phn\"\n",
        "dict_path = \"downloads/en/transformer/data/lang_1phn/phn_train_no_dev_units.txt\"\n",
        "model_path = \"downloads/en/transformer/exp/phn_train_no_dev_pytorch_train_pytorch_transformer.v3.single/results/model.last1.avg.best\"\n",
        "\n",
        "print(\"sucessfully finished download.\")"
      ],
      "execution_count": null,
      "outputs": [
        {
          "output_type": "stream",
          "text": [
            "Downloading...\n",
            "From: https://drive.google.com/uc?id=1z8KSOWVBjK-_Ws4RxVN4NTx-Buy03-7c\n",
            "To: /content/downloads/en/transformer/zzKc2L.tar.gz\n",
            "123MB [00:00, 263MB/s]\n",
            "conf/tuning/train_pytorch_transformer.v3.single.yaml\n",
            "conf/decode.yaml\n",
            "data/phn_train_no_dev/cmvn.ark\n",
            "exp/phn_train_no_dev_pytorch_train_pytorch_transformer.v3.single/results/model.last1.avg.best\n",
            "exp/phn_train_no_dev_pytorch_train_pytorch_transformer.v3.single/results/model.json\n",
            "data/lang_1phn/phn_train_no_dev_units.txt\n",
            "Sucessfully downloaded tar.gz file from https://drive.google.com/open?id=1z8KSOWVBjK-_Ws4RxVN4NTx-Buy03-7c\n",
            "sucessfully finished download.\n"
          ],
          "name": "stdout"
        }
      ]
    },
    {
      "cell_type": "markdown",
      "metadata": {
        "id": "VONMvIC1ODvR"
      },
      "source": [
        "#### (c) FastSpeech\n"
      ]
    },
    {
      "cell_type": "code",
      "metadata": {
        "id": "ZX0Kmo72POfY",
        "colab": {
          "base_uri": "https://localhost:8080/"
        },
        "outputId": "a43396bb-a2fb-4516-d920-a031abee4759"
      },
      "source": [
        "# download pretrained model\n",
        "import os\n",
        "if not os.path.exists(\"downloads/en/fastspeech\"):\n",
        "    !./espnet/utils/download_from_google_drive.sh \\\n",
        "        https://drive.google.com/open?id=1P9I4qag8wAcJiTCPawt6WCKBqUfJFtFp downloads/en/fastspeech tar.gz\n",
        "\n",
        "# set path\n",
        "trans_type = \"phn\"\n",
        "dict_path = \"downloads/en/fastspeech/data/lang_1phn/phn_train_no_dev_units.txt\"\n",
        "model_path = \"downloads/en/fastspeech/exp/phn_train_no_dev_pytorch_train_tacotron2.v3_fastspeech.v4.single/results/model.last1.avg.best\"\n",
        "\n",
        "print(\"Sucessfully finished download.\")"
      ],
      "execution_count": null,
      "outputs": [
        {
          "output_type": "stream",
          "text": [
            "Downloading...\n",
            "From: https://drive.google.com/uc?id=1P9I4qag8wAcJiTCPawt6WCKBqUfJFtFp\n",
            "To: /content/downloads/en/fastspeech/gkLaeA.tar.gz\n",
            "191MB [00:03, 53.2MB/s]\n",
            "conf/tuning/train_fastspeech.v4.single.yaml\n",
            "conf/decode.yaml\n",
            "data/phn_train_no_dev/cmvn.ark\n",
            "exp/phn_train_no_dev_pytorch_train_tacotron2.v3_fastspeech.v4.single/results/model.last1.avg.best\n",
            "exp/phn_train_no_dev_pytorch_train_tacotron2.v3_fastspeech.v4.single/results/model.json\n",
            "data/lang_1phn/phn_train_no_dev_units.txt\n",
            "Sucessfully downloaded tar.gz file from https://drive.google.com/open?id=1P9I4qag8wAcJiTCPawt6WCKBqUfJFtFp\n",
            "Sucessfully finished download.\n"
          ],
          "name": "stdout"
        }
      ]
    },
    {
      "cell_type": "markdown",
      "metadata": {
        "id": "vwc7JXD_dAy8"
      },
      "source": [
        "### Download pretrained vocoder model\n",
        "\n",
        "You can select one from two models. Please only run the seletected model cells."
      ]
    },
    {
      "cell_type": "markdown",
      "metadata": {
        "id": "VdIFfyL9eWic"
      },
      "source": [
        "#### (a) Parallel WaveGAN"
      ]
    },
    {
      "cell_type": "code",
      "metadata": {
        "id": "nQDFNuQ2dK-M",
        "colab": {
          "base_uri": "https://localhost:8080/"
        },
        "outputId": "cdb485e9-f563-40ac-8862-ecfe0dbb19a1"
      },
      "source": [
        "# download pretrained model\n",
        "import os\n",
        "if not os.path.exists(\"downloads/en/parallel_wavegan\"):\n",
        "    !./espnet/utils/download_from_google_drive.sh \\\n",
        "        https://drive.google.com/open?id=1Grn7X9wD35UcDJ5F7chwdTqTa4U7DeVB downloads/en/parallel_wavegan tar.gz\n",
        "\n",
        "# set path\n",
        "vocoder_path = \"downloads/en/parallel_wavegan/ljspeech.parallel_wavegan.v2/checkpoint-400000steps.pkl\"\n",
        "\n",
        "print(\"Sucessfully finished download.\")"
      ],
      "execution_count": null,
      "outputs": [
        {
          "output_type": "stream",
          "text": [
            "Downloading...\n",
            "From: https://drive.google.com/uc?id=1Grn7X9wD35UcDJ5F7chwdTqTa4U7DeVB\n",
            "To: /content/downloads/en/parallel_wavegan/tcxSPk.tar.gz\n",
            "16.0MB [00:00, 74.8MB/s]\n",
            "ljspeech.parallel_wavegan.v2/\n",
            "ljspeech.parallel_wavegan.v2/stats.h5\n",
            "ljspeech.parallel_wavegan.v2/checkpoint-400000steps.pkl\n",
            "ljspeech.parallel_wavegan.v2/config.yml\n",
            "Sucessfully downloaded tar.gz file from https://drive.google.com/open?id=1Grn7X9wD35UcDJ5F7chwdTqTa4U7DeVB\n",
            "Sucessfully finished download.\n"
          ],
          "name": "stdout"
        }
      ]
    },
    {
      "cell_type": "markdown",
      "metadata": {
        "id": "5B0V2Wy6ebNE"
      },
      "source": [
        "#### (b) MelGAN"
      ]
    },
    {
      "cell_type": "code",
      "metadata": {
        "id": "UBBAokMQegdK",
        "colab": {
          "base_uri": "https://localhost:8080/"
        },
        "outputId": "34e04657-5861-4e73-a5a4-f6e2e1998d53"
      },
      "source": [
        "# download pretrained model\n",
        "import os\n",
        "if not os.path.exists(\"downloads/en/melgan\"):\n",
        "    !./espnet/utils/download_from_google_drive.sh \\\n",
        "        https://drive.google.com/open?id=1_a8faVA5OGCzIcJNw4blQYjfG4oA9VEt downloads/en/melgan tar.gz\n",
        "\n",
        "# set path\n",
        "vocoder_path = \"downloads/en/melgan/train_nodev_ljspeech_melgan.v3.long/checkpoint-4000000steps.pkl\"\n",
        "\n",
        "print(\"Sucessfully finished download.\")"
      ],
      "execution_count": null,
      "outputs": [
        {
          "output_type": "stream",
          "text": [
            "Downloading...\n",
            "From: https://drive.google.com/uc?id=1_a8faVA5OGCzIcJNw4blQYjfG4oA9VEt\n",
            "To: /content/downloads/en/melgan/B69F8R.tar.gz\n",
            "237MB [00:01, 219MB/s]\n",
            "train_nodev_ljspeech_melgan.v3.long/\n",
            "train_nodev_ljspeech_melgan.v3.long/checkpoint-4000000steps.pkl\n",
            "train_nodev_ljspeech_melgan.v3.long/config.yml\n",
            "train_nodev_ljspeech_melgan.v3.long/stats.h5\n",
            "Sucessfully downloaded tar.gz file from https://drive.google.com/open?id=1_a8faVA5OGCzIcJNw4blQYjfG4oA9VEt\n",
            "Sucessfully finished download.\n"
          ],
          "name": "stdout"
        }
      ]
    },
    {
      "cell_type": "markdown",
      "metadata": {
        "id": "HaSyEKBWAK7H"
      },
      "source": [
        "### Setup"
      ]
    },
    {
      "cell_type": "code",
      "metadata": {
        "id": "i8JXOfRfqMFN",
        "colab": {
          "base_uri": "https://localhost:8080/"
        },
        "outputId": "a40774ed-9574-4d2b-b45a-a9ea9cab78e6"
      },
      "source": [
        "# add path\n",
        "import sys\n",
        "sys.path.append(\"espnet\")\n",
        "\n",
        "# define device\n",
        "import torch\n",
        "device = torch.device(\"cuda\")\n",
        "\n",
        "# define E2E-TTS model\n",
        "from argparse import Namespace\n",
        "from espnet.asr.asr_utils import get_model_conf\n",
        "from espnet.asr.asr_utils import torch_load\n",
        "from espnet.utils.dynamic_import import dynamic_import\n",
        "idim, odim, train_args = get_model_conf(model_path)\n",
        "model_class = dynamic_import(train_args.model_module)\n",
        "model = model_class(idim, odim, train_args)\n",
        "torch_load(model_path, model) v\n",
        "model = model.eval().to(device)\n",
        "inference_args = Namespace(**{\n",
        "    \"threshold\": 0.5,\"minlenratio\": 0.0, \"maxlenratio\": 10.0,\n",
        "    # Only for Tacotron 2\n",
        "    \"use_attention_constraint\": True, \"backward_window\": 1,\"forward_window\":3,\n",
        "    # Only for fastspeech (lower than 1.0 is faster speech, higher than 1.0 is slower speech)\n",
        "    \"fastspeech_alpha\": 1.0,\n",
        "    })\n",
        "\n",
        "# define neural vocoder\n",
        "from parallel_wavegan.utils import load_model\n",
        "fs = 22050\n",
        "vocoder = load_model(vocoder_path)\n",
        "vocoder.remove_weight_norm()\n",
        "vocoder = vocoder.eval().to(device)\n",
        "\n",
        "# define text frontend\n",
        "from tacotron_cleaner.cleaners import custom_english_cleaners\n",
        "from g2p_en import G2p\n",
        "with open(dict_path) as f:\n",
        "    lines = f.readlines()\n",
        "lines = [line.replace(\"\\n\", \"\").split(\" \") for line in lines]\n",
        "char_to_id = {c: int(i) for c, i in lines}\n",
        "g2p = G2p()\n",
        "def frontend(text):\n",
        "    \"\"\"Clean text and then convert to id sequence.\"\"\"\n",
        "    text = custom_english_cleaners(text)\n",
        "    \n",
        "    if trans_type == \"phn\":\n",
        "        text = filter(lambda s: s != \" \", g2p(text))\n",
        "        text = \" \".join(text)\n",
        "        print(f\"Cleaned text: {text}\")\n",
        "        charseq = text.split(\" \")\n",
        "    else:\n",
        "        print(f\"Cleaned text: {text}\")\n",
        "        charseq = list(text)\n",
        "    idseq = []\n",
        "    for c in charseq:\n",
        "        if c.isspace():\n",
        "            idseq += [char_to_id[\"<space>\"]]\n",
        "        elif c not in char_to_id.keys():\n",
        "            idseq += [char_to_id[\"<unk>\"]]\n",
        "        else:\n",
        "            idseq += [char_to_id[c]]\n",
        "    idseq += [idim - 1]  # <eos>\n",
        "    return torch.LongTensor(idseq).view(-1).to(device)\n",
        "\n",
        "import nltk\n",
        "nltk.download('punkt')\n",
        "print(\"Now ready to synthesize!\")"
      ],
      "execution_count": null,
      "outputs": [
        {
          "output_type": "stream",
          "text": [
            "[nltk_data] Downloading package averaged_perceptron_tagger to\n",
            "[nltk_data]     /root/nltk_data...\n",
            "[nltk_data]   Unzipping taggers/averaged_perceptron_tagger.zip.\n",
            "[nltk_data] Downloading package cmudict to /root/nltk_data...\n",
            "[nltk_data]   Unzipping corpora/cmudict.zip.\n",
            "[nltk_data] Downloading package punkt to /root/nltk_data...\n",
            "[nltk_data]   Unzipping tokenizers/punkt.zip.\n",
            "Now ready to synthesize!\n"
          ],
          "name": "stdout"
        }
      ]
    },
    {
      "cell_type": "markdown",
      "metadata": {
        "id": "AacD_RerASiO"
      },
      "source": [
        "### Synthesis"
      ]
    },
    {
      "cell_type": "code",
      "metadata": {
        "id": "DWSW7xnpT_IN",
        "colab": {
          "base_uri": "https://localhost:8080/",
          "height": 265
        },
        "outputId": "bca31587-f4ed-477f-8bf9-1e95907a577c"
      },
      "source": [
        "import time\n",
        "print(\"Input your favorite sentence in English!\")\n",
        "input_text = input()\n",
        "with torch.no_grad():\n",
        "    start = time.time()\n",
        "    x = frontend(input_text)\n",
        "    c, _, _ = model.inference(x, inference_args)\n",
        "    y = vocoder.inference(c)\n",
        "rtf = (time.time() - start) / (len(y) / fs)\n",
        "print(f\"RTF = {rtf:5f}\")\n",
        "\n",
        "from IPython.display import display, Audio\n",
        "display(Audio(y.view(-1).cpu().numpy(), rate=fs))"
      ],
      "execution_count": null,
      "outputs": [
        {
          "output_type": "stream",
          "text": [
            "Input your favorite sentence in English!\n",
            "hello world\n"
          ],
          "name": "stdout"
        },
        {
          "output_type": "error",
          "ename": "NameError",
          "evalue": "ignored",
          "traceback": [
            "\u001b[0;31m---------------------------------------------------------------------------\u001b[0m",
            "\u001b[0;31mNameError\u001b[0m                                 Traceback (most recent call last)",
            "\u001b[0;32m<ipython-input-1-053b0e376415>\u001b[0m in \u001b[0;36m<module>\u001b[0;34m()\u001b[0m\n\u001b[1;32m      2\u001b[0m \u001b[0mprint\u001b[0m\u001b[0;34m(\u001b[0m\u001b[0;34m\"Input your favorite sentence in English!\"\u001b[0m\u001b[0;34m)\u001b[0m\u001b[0;34m\u001b[0m\u001b[0;34m\u001b[0m\u001b[0m\n\u001b[1;32m      3\u001b[0m \u001b[0minput_text\u001b[0m \u001b[0;34m=\u001b[0m \u001b[0minput\u001b[0m\u001b[0;34m(\u001b[0m\u001b[0;34m)\u001b[0m\u001b[0;34m\u001b[0m\u001b[0;34m\u001b[0m\u001b[0m\n\u001b[0;32m----> 4\u001b[0;31m \u001b[0;32mwith\u001b[0m \u001b[0mtorch\u001b[0m\u001b[0;34m.\u001b[0m\u001b[0mno_grad\u001b[0m\u001b[0;34m(\u001b[0m\u001b[0;34m)\u001b[0m\u001b[0;34m:\u001b[0m\u001b[0;34m\u001b[0m\u001b[0;34m\u001b[0m\u001b[0m\n\u001b[0m\u001b[1;32m      5\u001b[0m     \u001b[0mstart\u001b[0m \u001b[0;34m=\u001b[0m \u001b[0mtime\u001b[0m\u001b[0;34m.\u001b[0m\u001b[0mtime\u001b[0m\u001b[0;34m(\u001b[0m\u001b[0;34m)\u001b[0m\u001b[0;34m\u001b[0m\u001b[0;34m\u001b[0m\u001b[0m\n\u001b[1;32m      6\u001b[0m     \u001b[0mx\u001b[0m \u001b[0;34m=\u001b[0m \u001b[0mfrontend\u001b[0m\u001b[0;34m(\u001b[0m\u001b[0minput_text\u001b[0m\u001b[0;34m)\u001b[0m\u001b[0;34m\u001b[0m\u001b[0;34m\u001b[0m\u001b[0m\n",
            "\u001b[0;31mNameError\u001b[0m: name 'torch' is not defined"
          ]
        }
      ]
    },
    {
      "cell_type": "code",
      "metadata": {
        "id": "lrfm69ulYn1R"
      },
      "source": [
        ""
      ],
      "execution_count": null,
      "outputs": []
    }
  ]
}
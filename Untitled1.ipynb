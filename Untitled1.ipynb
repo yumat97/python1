{
  "nbformat": 4,
  "nbformat_minor": 0,
  "metadata": {
    "colab": {
      "name": "Untitled1.ipynb",
      "provenance": [],
      "authorship_tag": "ABX9TyNDzETpr4dpaKD239FhnSol",
      "include_colab_link": true
    },
    "kernelspec": {
      "name": "python3",
      "display_name": "Python 3"
    },
    "language_info": {
      "name": "python"
    }
  },
  "cells": [
    {
      "cell_type": "markdown",
      "metadata": {
        "id": "view-in-github",
        "colab_type": "text"
      },
      "source": [
        "<a href=\"https://colab.research.google.com/github/yumat97/python1/blob/master/Untitled1.ipynb\" target=\"_parent\"><img src=\"https://colab.research.google.com/assets/colab-badge.svg\" alt=\"Open In Colab\"/></a>"
      ]
    },
    {
      "cell_type": "code",
      "metadata": {
        "id": "GuWiod3kAePU"
      },
      "source": [
        "import nltk"
      ],
      "execution_count": null,
      "outputs": []
    },
    {
      "cell_type": "code",
      "metadata": {
        "id": "GpkfteoHAk2l"
      },
      "source": [
        "import nltk.corpus"
      ],
      "execution_count": null,
      "outputs": []
    },
    {
      "cell_type": "code",
      "metadata": {
        "id": "oO0Yw53fAk7C"
      },
      "source": [
        "#tokenization"
      ],
      "execution_count": null,
      "outputs": []
    },
    {
      "cell_type": "code",
      "metadata": {
        "id": "frY756zkBp6A"
      },
      "source": [
        "from nltk.tokenize import word_tokenize\n",
        "from nltk.tokenize import sent_tokenize"
      ],
      "execution_count": null,
      "outputs": []
    },
    {
      "cell_type": "code",
      "metadata": {
        "id": "D-3zcHT0Bu4U"
      },
      "source": [
        "chess=\"Samay Raina is the best chess streamer in the world\""
      ],
      "execution_count": null,
      "outputs": []
    },
    {
      "cell_type": "code",
      "metadata": {
        "colab": {
          "base_uri": "https://localhost:8080/"
        },
        "id": "XXnUvvCuCAPO",
        "outputId": "6de0ece0-a7f2-45b9-dacc-f9d0623828ed"
      },
      "source": [
        "word_tokenize(chess)"
      ],
      "execution_count": null,
      "outputs": [
        {
          "output_type": "execute_result",
          "data": {
            "text/plain": [
              "['Samay',\n",
              " 'Raina',\n",
              " 'is',\n",
              " 'the',\n",
              " 'best',\n",
              " 'chess',\n",
              " 'streamer',\n",
              " 'in',\n",
              " 'the',\n",
              " 'world']"
            ]
          },
          "metadata": {
            "tags": []
          },
          "execution_count": 17
        }
      ]
    },
    {
      "cell_type": "code",
      "metadata": {
        "colab": {
          "base_uri": "https://localhost:8080/"
        },
        "id": "wa9mBENxDBXq",
        "outputId": "2fc376ba-4a95-4b1c-8c27-ec8d343ec2e4"
      },
      "source": [
        "nltk.download('punkt')\n"
      ],
      "execution_count": null,
      "outputs": [
        {
          "output_type": "stream",
          "text": [
            "[nltk_data] Downloading package punkt to /root/nltk_data...\n",
            "[nltk_data]   Unzipping tokenizers/punkt.zip.\n"
          ],
          "name": "stdout"
        },
        {
          "output_type": "execute_result",
          "data": {
            "text/plain": [
              "True"
            ]
          },
          "metadata": {
            "tags": []
          },
          "execution_count": 15
        }
      ]
    },
    {
      "cell_type": "code",
      "metadata": {
        "id": "sFtwaG9ZDBbd"
      },
      "source": [
        "chess2=\"Samay Raina is the best chess streamer in the world. Sagar Shah is the best chess coach in the world\""
      ],
      "execution_count": null,
      "outputs": []
    },
    {
      "cell_type": "code",
      "metadata": {
        "colab": {
          "base_uri": "https://localhost:8080/"
        },
        "id": "rClVBNfaDHIA",
        "outputId": "58cb6675-dac5-4c13-a716-4ffd9ecab555"
      },
      "source": [
        "sent_tokenize(chess2)"
      ],
      "execution_count": null,
      "outputs": [
        {
          "output_type": "execute_result",
          "data": {
            "text/plain": [
              "['Samay Raina is the best chess streamer in the world.',\n",
              " 'Sagar Shah is the best chess coach in the world']"
            ]
          },
          "metadata": {
            "tags": []
          },
          "execution_count": 21
        }
      ]
    },
    {
      "cell_type": "code",
      "metadata": {
        "colab": {
          "base_uri": "https://localhost:8080/"
        },
        "id": "j9fcjQpuDHMF",
        "outputId": "58e505f3-1a06-4a8f-8310-2dd5d646397c"
      },
      "source": [
        "len(word_tokenize(chess))"
      ],
      "execution_count": null,
      "outputs": [
        {
          "output_type": "execute_result",
          "data": {
            "text/plain": [
              "10"
            ]
          },
          "metadata": {
            "tags": []
          },
          "execution_count": 26
        }
      ]
    },
    {
      "cell_type": "code",
      "metadata": {
        "colab": {
          "base_uri": "https://localhost:8080/"
        },
        "id": "3ZU-ifH6DHQX",
        "outputId": "7982ae52-86ea-4d1b-fa8a-1f83b124cf4c"
      },
      "source": [
        "len(sent_tokenize(chess2))"
      ],
      "execution_count": null,
      "outputs": [
        {
          "output_type": "execute_result",
          "data": {
            "text/plain": [
              "2"
            ]
          },
          "metadata": {
            "tags": []
          },
          "execution_count": 24
        }
      ]
    },
    {
      "cell_type": "code",
      "metadata": {
        "id": "VC4h5niXDHUr"
      },
      "source": [
        "#bigrams and n-grams"
      ],
      "execution_count": null,
      "outputs": []
    },
    {
      "cell_type": "code",
      "metadata": {
        "id": "ItJTBioiDHYc"
      },
      "source": [
        "astronaut=\"Can anybody hear me or am I talking to myself? My mind is running empty in the search for someone else\""
      ],
      "execution_count": null,
      "outputs": []
    },
    {
      "cell_type": "code",
      "metadata": {
        "id": "QA9DI_P2FFIk"
      },
      "source": [
        "astronaut_token=(word_tokenize(astronaut))"
      ],
      "execution_count": null,
      "outputs": []
    },
    {
      "cell_type": "code",
      "metadata": {
        "colab": {
          "base_uri": "https://localhost:8080/"
        },
        "id": "0weNf944F_1q",
        "outputId": "76538bee-456a-480b-9e9a-9017d707fd8b"
      },
      "source": [
        "print(astronaut_token)"
      ],
      "execution_count": null,
      "outputs": [
        {
          "output_type": "stream",
          "text": [
            "['Can', 'anybody', 'hear', 'me', 'or', 'am', 'I', 'talking', 'to', 'myself', '?', 'My', 'mind', 'is', 'running', 'empty', 'in', 'the', 'search', 'for', 'someone', 'else']\n"
          ],
          "name": "stdout"
        }
      ]
    },
    {
      "cell_type": "code",
      "metadata": {
        "colab": {
          "base_uri": "https://localhost:8080/"
        },
        "id": "2iIe-02_FFNB",
        "outputId": "e16a8289-51e2-40d1-b894-acc06c4c6151"
      },
      "source": [
        "list(nltk.bigrams(astronaut_token))"
      ],
      "execution_count": null,
      "outputs": [
        {
          "output_type": "execute_result",
          "data": {
            "text/plain": [
              "[('Can', 'anybody'),\n",
              " ('anybody', 'hear'),\n",
              " ('hear', 'me'),\n",
              " ('me', 'or'),\n",
              " ('or', 'am'),\n",
              " ('am', 'I'),\n",
              " ('I', 'talking'),\n",
              " ('talking', 'to'),\n",
              " ('to', 'myself'),\n",
              " ('myself', '?'),\n",
              " ('?', 'My'),\n",
              " ('My', 'mind'),\n",
              " ('mind', 'is'),\n",
              " ('is', 'running'),\n",
              " ('running', 'empty'),\n",
              " ('empty', 'in'),\n",
              " ('in', 'the'),\n",
              " ('the', 'search'),\n",
              " ('search', 'for'),\n",
              " ('for', 'someone'),\n",
              " ('someone', 'else')]"
            ]
          },
          "metadata": {
            "tags": []
          },
          "execution_count": 38
        }
      ]
    },
    {
      "cell_type": "code",
      "metadata": {
        "colab": {
          "base_uri": "https://localhost:8080/"
        },
        "id": "YzhebURSFFQi",
        "outputId": "a66cc203-74dd-4c67-c48a-c6b0519b47fa"
      },
      "source": [
        "list(nltk.trigrams(astronaut_token))"
      ],
      "execution_count": null,
      "outputs": [
        {
          "output_type": "execute_result",
          "data": {
            "text/plain": [
              "[('Can', 'anybody', 'hear'),\n",
              " ('anybody', 'hear', 'me'),\n",
              " ('hear', 'me', 'or'),\n",
              " ('me', 'or', 'am'),\n",
              " ('or', 'am', 'I'),\n",
              " ('am', 'I', 'talking'),\n",
              " ('I', 'talking', 'to'),\n",
              " ('talking', 'to', 'myself'),\n",
              " ('to', 'myself', '?'),\n",
              " ('myself', '?', 'My'),\n",
              " ('?', 'My', 'mind'),\n",
              " ('My', 'mind', 'is'),\n",
              " ('mind', 'is', 'running'),\n",
              " ('is', 'running', 'empty'),\n",
              " ('running', 'empty', 'in'),\n",
              " ('empty', 'in', 'the'),\n",
              " ('in', 'the', 'search'),\n",
              " ('the', 'search', 'for'),\n",
              " ('search', 'for', 'someone'),\n",
              " ('for', 'someone', 'else')]"
            ]
          },
          "metadata": {
            "tags": []
          },
          "execution_count": 39
        }
      ]
    },
    {
      "cell_type": "code",
      "metadata": {
        "colab": {
          "base_uri": "https://localhost:8080/"
        },
        "id": "EwkbK6B1FFUS",
        "outputId": "a68a6431-6147-45fa-cdcd-fd7da09327e9"
      },
      "source": [
        "list(nltk.ngrams(astronaut_token,5))"
      ],
      "execution_count": null,
      "outputs": [
        {
          "output_type": "execute_result",
          "data": {
            "text/plain": [
              "[('Can', 'anybody', 'hear', 'me', 'or'),\n",
              " ('anybody', 'hear', 'me', 'or', 'am'),\n",
              " ('hear', 'me', 'or', 'am', 'I'),\n",
              " ('me', 'or', 'am', 'I', 'talking'),\n",
              " ('or', 'am', 'I', 'talking', 'to'),\n",
              " ('am', 'I', 'talking', 'to', 'myself'),\n",
              " ('I', 'talking', 'to', 'myself', '?'),\n",
              " ('talking', 'to', 'myself', '?', 'My'),\n",
              " ('to', 'myself', '?', 'My', 'mind'),\n",
              " ('myself', '?', 'My', 'mind', 'is'),\n",
              " ('?', 'My', 'mind', 'is', 'running'),\n",
              " ('My', 'mind', 'is', 'running', 'empty'),\n",
              " ('mind', 'is', 'running', 'empty', 'in'),\n",
              " ('is', 'running', 'empty', 'in', 'the'),\n",
              " ('running', 'empty', 'in', 'the', 'search'),\n",
              " ('empty', 'in', 'the', 'search', 'for'),\n",
              " ('in', 'the', 'search', 'for', 'someone'),\n",
              " ('the', 'search', 'for', 'someone', 'else')]"
            ]
          },
          "metadata": {
            "tags": []
          },
          "execution_count": 41
        }
      ]
    },
    {
      "cell_type": "code",
      "metadata": {
        "id": "Eg2g1ktoFFXu"
      },
      "source": [
        "from nltk.stem import PorterStemmer"
      ],
      "execution_count": null,
      "outputs": []
    },
    {
      "cell_type": "code",
      "metadata": {
        "id": "tmJN19xHG7_Z"
      },
      "source": [
        "my_stem=PorterStemmer()"
      ],
      "execution_count": null,
      "outputs": []
    },
    {
      "cell_type": "code",
      "metadata": {
        "colab": {
          "base_uri": "https://localhost:8080/",
          "height": 35
        },
        "id": "3ruN2GDhG8DA",
        "outputId": "7aee695f-123d-48d2-aa97-6e1c4faa1dd4"
      },
      "source": [
        "my_stem.stem(\"eating\")"
      ],
      "execution_count": null,
      "outputs": [
        {
          "output_type": "execute_result",
          "data": {
            "application/vnd.google.colaboratory.intrinsic+json": {
              "type": "string"
            },
            "text/plain": [
              "'eat'"
            ]
          },
          "metadata": {
            "tags": []
          },
          "execution_count": 44
        }
      ]
    },
    {
      "cell_type": "code",
      "metadata": {
        "id": "KWT_u06UG8Gn"
      },
      "source": [
        "tom=\"Tom Hanks is the best actor in the world\""
      ],
      "execution_count": null,
      "outputs": []
    },
    {
      "cell_type": "code",
      "metadata": {
        "id": "iPx-a9qkG8J3"
      },
      "source": [
        "tom_token=word_tokenize(tom)"
      ],
      "execution_count": null,
      "outputs": []
    },
    {
      "cell_type": "code",
      "metadata": {
        "colab": {
          "base_uri": "https://localhost:8080/"
        },
        "id": "IsVRwi6xG8NL",
        "outputId": "8c56719d-fccf-4196-aa54-3f6cf370589a"
      },
      "source": [
        "nltk.pos_tag(tom_token)"
      ],
      "execution_count": null,
      "outputs": [
        {
          "output_type": "execute_result",
          "data": {
            "text/plain": [
              "[('Tom', 'NNP'),\n",
              " ('Hanks', 'NNP'),\n",
              " ('is', 'VBZ'),\n",
              " ('the', 'DT'),\n",
              " ('best', 'JJS'),\n",
              " ('actor', 'NN'),\n",
              " ('in', 'IN'),\n",
              " ('the', 'DT'),\n",
              " ('world', 'NN')]"
            ]
          },
          "metadata": {
            "tags": []
          },
          "execution_count": 49
        }
      ]
    },
    {
      "cell_type": "code",
      "metadata": {
        "colab": {
          "base_uri": "https://localhost:8080/"
        },
        "id": "1N6uo6icG8QM",
        "outputId": "9e3cbfb0-1eef-4fc2-b740-8338996eec64"
      },
      "source": [
        "nltk.download('averaged_perceptron_tagger')"
      ],
      "execution_count": null,
      "outputs": [
        {
          "output_type": "stream",
          "text": [
            "[nltk_data] Downloading package averaged_perceptron_tagger to\n",
            "[nltk_data]     /root/nltk_data...\n",
            "[nltk_data]   Unzipping taggers/averaged_perceptron_tagger.zip.\n"
          ],
          "name": "stdout"
        },
        {
          "output_type": "execute_result",
          "data": {
            "text/plain": [
              "True"
            ]
          },
          "metadata": {
            "tags": []
          },
          "execution_count": 48
        }
      ]
    },
    {
      "cell_type": "code",
      "metadata": {
        "colab": {
          "base_uri": "https://localhost:8080/"
        },
        "id": "Xf62evinG7YX",
        "outputId": "003bfc48-8ead-46b9-9aae-58e01ced6697"
      },
      "source": [
        "!pip install gTTS"
      ],
      "execution_count": null,
      "outputs": [
        {
          "output_type": "stream",
          "text": [
            "Collecting gTTS\n",
            "  Downloading https://files.pythonhosted.org/packages/5f/b9/94e59337107be134b21ce395a29fc0715b707b560108d6797de2d93e1178/gTTS-2.2.2-py3-none-any.whl\n",
            "Requirement already satisfied: click in /usr/local/lib/python3.7/dist-packages (from gTTS) (7.1.2)\n",
            "Requirement already satisfied: six in /usr/local/lib/python3.7/dist-packages (from gTTS) (1.15.0)\n",
            "Requirement already satisfied: requests in /usr/local/lib/python3.7/dist-packages (from gTTS) (2.23.0)\n",
            "Requirement already satisfied: chardet<4,>=3.0.2 in /usr/local/lib/python3.7/dist-packages (from requests->gTTS) (3.0.4)\n",
            "Requirement already satisfied: idna<3,>=2.5 in /usr/local/lib/python3.7/dist-packages (from requests->gTTS) (2.10)\n",
            "Requirement already satisfied: certifi>=2017.4.17 in /usr/local/lib/python3.7/dist-packages (from requests->gTTS) (2020.12.5)\n",
            "Requirement already satisfied: urllib3!=1.25.0,!=1.25.1,<1.26,>=1.21.1 in /usr/local/lib/python3.7/dist-packages (from requests->gTTS) (1.24.3)\n",
            "Installing collected packages: gTTS\n",
            "Successfully installed gTTS-2.2.2\n"
          ],
          "name": "stdout"
        }
      ]
    },
    {
      "cell_type": "code",
      "metadata": {
        "colab": {
          "base_uri": "https://localhost:8080/",
          "height": 75
        },
        "id": "OBa0j8_UG7dJ",
        "outputId": "8e4ee616-4e12-4673-dabf-aaa05a4bcdb2"
      },
      "source": [
        "from gtts import gTTS\n",
        "from IPython.display import Audio\n",
        "tts=gTTS(\"авыфафывафывафыававфы\")\n",
        "tts.save(\"1.wav\")\n",
        "sound_file=\"1.wav\"\n",
        "Audio(sound_file,autoplay=True)"
      ],
      "execution_count": null,
      "outputs": [
        {
          "output_type": "execute_result",
          "data": {
            "text/html": [
              "\n",
              "                <audio controls=\"controls\" autoplay=\"autoplay\">\n",
              "                    <source src=\"data:audio/x-wav;base64,//NExAAReCIcAUMYAH0CAAAAIJAQBCsEAQ/+UBAEAQDHWDgIeJwfB8Pe7g4CAIS4IAgCDvE4IAhlDn5cHAQBA51g+DgIAgCAIA+D4Pg+DgIAgCD+UDxxNQH8HXexM8YP//NExA0VMdKwAZhoAP7K4HbiUT4w5LuO0OIcXkubzctIhkYfTmZunLxibDm/HOcNFFxAcAOcY5sUhw/y4aJoLeRxnHITWUv/606fQOMYHwoFv5z1ov/f4pKU97HKsIyI//NExAsU+brAAdhYARlLds3W6VMccdRqc57nHzlfSn/uZxxaDOTVA2YqalQ6wwDwdKFzpPeqjBWVktVh8sHebq211TxsZTImN8z2xjIpx+OlYBix/SvpoDHAKbJNCdFD//NExAoU4bq8AJtYlQAsRR2oE4Nky1zIup60TVPUiefqSZuZRXnGSSOhnjLqGBUWn1KmLqqKG2Li2cTHWBav37Wmnz81pf7ZXIX3rVd9fCCwwDhWRT2lb1ActIJzxeGy//NExAkUWfKwAJqemAudB1NcBV/PD9ecPPQ9vcf+RD9OMjmTLv+UnwsQgGaXep1EO79tTpwl7+dwXr7WPiE9c/jFsLf+LZbH/zB3FWtf6xDv/n2lfWr1l8Dvs0uxWDqA//NExAoUIfawAJqemLiaZUAc/lROXyf5G3yR+ogyXRlOc0bHwnyXik0+cNh6z59lYaBet/4gMOv/mDb/0gKn/WHicR267gNiGxf/d/G3/e8K0uHq5/P4IaglDH72E3BY//NExAwVmbKoAMLYle8GrTsW0MwMrX5iOo91Juy/4Ot/5QOwyF4x6aLRyB0BrufqQSRJU2pVCEo+yzKEZGT0zzVrTM+ttPbl1szNTr8tNoQ0bsVf4or0tcr2qSCjt9E+//NExAgQUMaQAVgwAEUvtzZalLl3q+FrKlluu8lUat4SWCmq21FEWbvn7N2SOiMSnZByaReDSl5a/TOhWMRPJupT7v5DahXidk2wZ9VFUWqyecbA76wmfbfbkUq+YoNy//NExBkX6cqcAZlYAIMpZtYzqDj652R5AGi0HCgEQsuGsfEVb/OPPvTJ8N+/WTln5lyzfyzjm47OXxMe9M+aQoWWkweWxD0JSZTXsGnEFH7I5JJC+P+tv1EyZ6nRE5ox//NExAwVMdbEAZhIAEGaI/dRQugUKuNVbufd3+fn9/va/zp79uVfU+odfCSmFHgO5HeOBIMC6NTPf9ivFPD40Ts7l/1u3//66mpbPzxtggcZd8uv0m7rIoBgKWJ6dDow//NExAoQubrEAdA4AC0Txs6mLzVmaSWtf//+qPmKg2QwfHhOGhLJCQXFI6eQKOLSBrsiO1qdZxj3Rkc1y6FUPKKhh29y1f5q4IqCAM5S0iW4WIqKz90JCz4r0Ur7G9/m//NExBoRQbawAMFQlNTJ/UFRTD5GFkA2xKFSTYYVOFmFRllX9NKrPfzzKqrUzMSa0C0B1xZlbpPetnsCqBPOcjcFSL3YVKX8+xqk1Iv6zfGftcIjsRZCSnk42Wetncy8//NExCgRWS6gAHjMcMrc+qFjTAugpcprgRFyAElVr7PZ0Lv04tY//3WdCtZyYBpTW6nXX0TraezddKlvigqAzIUvhSTQzMGRMxHkWRHapsDjACdCxJqQrlWl7lPJvkhR//NExDUSmU6QAFiGlOWZOGxZS6XiqgA9YuorGLa9zeA2JXXv+T81xXCSN7k+IInQrKhdVA0SlhecMqziF/ppC05eFiA8V4Irv5ph2cJwih5+IDaFOKi+ZHKsHzR1X019//NExD0QYNacAHsGcD/+qxaVzXRsg7kLZU6cxLlysksFLK0hQE4CVFCWMg4MMr3MlBeDThn+aaiYY6MndFsozMVtCQjFAoJMD4RDwsYutC4ZME9Mp6Lliyr/mehNMm+q//NExE4RiMa4AHvScHdB8HFO8E8cjmkChgTwsRQABB5sSfL6xQkMPFRLKAwGWSQjMsAgFTiEyTuYJF8LkQCeDDjbi4qFmpaj+Ku11dfId8fWDFzmQm+Xs8aberq2KxZs//NExFoRSNbEAHvScMyh69ZUvAvzTZLQp9VzcfaNio++EZu+QAbH0aT5192W2vzvmdyc60t4sPDlTSm3qalxYqr+whiC1cMuf8PXcXPfLOPqI38iVKhEZp1BmoyiaVdl//NExGcR2SLAAH4YcH4LESiiGkZK1iGNrhzXc6QazA/WjZ30X1tWgudVmWeuXKxFYl16q/pq1ubM9KXqy1MIPrO4klvoMG1GvOSS/LhQoYmUNVLUrNmp9yddpRJPVo4j//NExHIR0T64AH4acBerY91gQov2vdA9ONPDUmVBQOlRcJYM/FUCgGBWrGF1AkSkjoahMKEzR6wnI1HapI0J9ot4S5yTPmTj5j+ntTPSTtOGHBmKL+zbIqn7wkpecK/+//NExH0RsOKkAMYYcJ7JwFVLQaMOv7B1NNmyTTdSlaKPXVQwIRbQlen/ojpq1TnwZtnVCochoW5kZfO+T8Ob+iTnbnaSzv6H9hDEmlgVVQCfc5q8nfCXW8pSMQTDw81Z//NExIkSqaaYAHmGlH95gXXG5x8E0L+XNRqRHn4dArF5IUNn97+cVX3Yicr7edA4oWKEIHPycI8LISypchYEcCbaJWsMHaRUVcowAR6Kmkhf7/d3/+nXrq+sarr+zBBM//NExJEQYZqUADiGlG42kxGhUEDtmKA+6aBiWnOcsK7IFuXajLWkFE+2gzYJGUGa7kmIz14H7TTRHag04CGQgZvAsQjsPVY+7lPZ09KXTlSRPZ5NA4s0ec7s2XueIf/c//NExKISaPKcAHsGcNiJrWizDBhMyF7vUp3+AFfdyK7qou3BErILT9AFiEWGoDWgZgrHCowkNTRnGHesnnBIUAN0BxtFgMVCY9CkJAQs7VYdJBoDfSQwzQiaaqwIis61//NExKsa0ZKUAM4MlaoYre7VERNvZu7UalRUldbJEiYV+eP+bHPBDGK3+4szaj7eYaVhApJbKKKGYxQR4LbKlEvawZfMRSFTuEaV4s9TEKCjLgg4c01NoL4NJXQQUxJm//NExJIcMY6MAN5SlVZ9obKO8G8S6ENIFso04lhHU+cOLenv/rmhSDIzM6pQzZbvLe1m+U7sl6OoNPG225nUP93kK+pS9H/oqU8CGHqGME3Qo00pAUJwVAdPAtCX4iws//NExHQXAZp8ANPElCAKxiF8CGBGF8dgBAUpB1COwAgKxEA5DhJ2/YFAoMYiazC3++1t8j2plISdgigBBCzy9yRWKXOE+mg4YQhIvMlrF3EAHf9BLfd+zrVqvfWLBpGz//NExGsZQZKIAMPGlC6mfcmxkD+vWcppqDrdaMYOCODGOJpmBJETDEGkTTjRYLFhAAMUaLLrchxEAIOrubGgo7c4rYmBQ4RByKbcrBedTi96JWle/3OkqYpS82ttTVp1//NExFkZiYacAM6QlPvHZZAMhEDvKOEDvuXV5+0CJNnWMlKzUGDRyL2OmqC0KO2yoFOMHXrGQLBLtMmoCQURJbNK84k95VAp1Qako0lnNwzfCQ95MgW2DWeLWnkcwvmF//NExEUXiaKkAMaOlfHCNQu2Prjlo5x+kVnSjjXH99d5uzcH4W6qbDJQpC5GhRCxGuD3e3Ie37wgDF5O+Ft1rTEWVmJqMaVHUXAsbETrRdbmmOa+ag7/0Cb5QX8kRPkz//NExDkU8ZaoAJZQlMp/KfyhRKW65v2r4X5H/iPcCpDA3ISUFIVopuTILw0WUAvI+ZC0o1cqM/For3JMV1SzQwKBlGaZMyHQWTy/MAAiAZPhjoKxGIGRfLjHDc3dZxPM//NExDgUWTawAI5gcJPWhrbU+p0K0E0zEwLvFHijxdwuQKjf7LFV5zrdhsMC0KNzLI41oQHBQXlgsCDMC0RdraNbEkrdxHqXUeTIYxdqJpAD8Nw4RBQbI8WMS6a0Uqr1//NExDkSyTacAMYacP29JtbWddzhs5o9t6Wlg1X/9KqMxx6Ujg8lokRdkQAoURKNpA0IhpCvRKK0nLeqoKlOSA803v82BhSgorkV7qZHjR5q00bdqEvi4mmJkJ1sagMG//NExEATySqEAMvKcFVJzPu33Xein3KRX/ub9dW52orOc8LS0zZQuXOMIicUBp04r0SR5Q4CUW4S+KeAxtNUkBoGPhdoSONmgnsAICK0/FcMSPAs8jezzPxen9hT0SgC//NExEMYcfaQANPKmTMQ7shA4ys5FIgcy2eICiVAMXacemy5z6T5zzjGpCH8azYRcCV6qGEMLE4N0EHxCBZ2FgvljusyRk1rTAG+yzcNuT9ZglhkQ2oGgExOeoqd+P9v//NExDQTISakAM4WcO7/bMSlCB0+anXhk6KnQs+V6wUBlyGdXqXmrqZA/DDU89IYI6mhGIf2LjsPtAcM25mklUuzgyHpdVibixmzBoQhyKsDpAjU9RMr06c9/t19aNlN//NExDoR4RaMAM4QcGxcySNEV4lJCVs3/9iVq1ptWY3EBQKV4WQiAFvnNMmBNGmEc7Q3w3MQDigfBsV6uIAIT29J4bWeF1UF5IcAx4EU6LHJeQiQHxOogjG/OaFde2mr//NExEUSsMKQAMPSTOvbEHt/rb34L7I00IeR8hHAVMcrio5koA6VZ0fSFDYN+o2YShH39f4EEOBmIOWsAACEJXKirD2tNSfycmL3yuX5ZYbhV3yunnl8I98idEfc5Tmd//NExE0WMZKgAM4GlH0v504AYfYj6OfcZdZwGuC8ZZF8KE4XfBQrObFMCAHUja5hfprgJGjeB3DMRRHcxgWM150wN8OVFaj5EyEemjCzzymIYTpqs4VFVpo1L7Nu1Zmg//NExEcVETasAH4icIzA9hBx+ToIh9YoKpqV/29B4TboLTHzoG1i9gKiQ5hoGJo58pUMCMORXyoCNEQLmoqnNS0MTJgaLleTZ4bnrH3Eaj6P35eU7XENkbfm5Vyrg3LV//NExEUREZK0AH5ElP8lQLjTOA33mJRwG79VN9LCYrNjGopf15jlCt6f0CEw/lJQEZITQT0OM3QOFbRMV1rbq7a0m1J6JrUo1ah+KeC/Q+g6tVX++xoNlCOwGmq3v33Y//NExFMRUTawAH5gcW+sYoMiQfoGMrofeYTJMRWaWs3CXV9MPIApY2B3D9dorc3N8zPMtjt0x8x270j50sHf/PDv/zD9sE+HyhNVakJrvWvGBcl31JrJF2qc8xwolWrH//NExGAQ+S6kAMYWcJHDuTKeUcy8ifM3frBOKRyFjgBTm1hU2fHqc5+qwV3e5NzCAQrpqIizsdUxDgXA6Lt/y8YZESv0hMyBIUwq04XkcheX37wsjZjPVm8ik14Y+eNC//NExG8RmSqYAHmGcJDpJrUhNtRhAYSlLQMw3SLyK4i1gFLOpbNoEyhzQcADhhI4sQ6e3XW9k/0b7sYEAd2LQk7P0zNP0H7wj3J+5VKRk5ph1lw0fcOE0P8TXi0Xq1jh//NExHsQ+YKUADhGlGW4XYOol0tcWc5Az76au3LbgiRYGIYO2gVFOJhASsZxVh3nJOUTJAQUXE30bnfU+goOX2CIXpgKF7zAA7MQPMQYgatzM+NH+vf/z/b3PqacBU+k//NExIoRIYqcABiGlD5HA5/p3/KxkvDv3AvkHZvZR5jlG9g09STY4NnoOPy3X33ae0GBVYgLBVBBKmQIHkfAInBBDZu5rdtq/2c7T2aJRwQWcUBKAFyBiBH+qv7hEwE1//NExJgSgY6kAMlMlCPCbHIyIC1yXiw8uY8F/FZHUX8mbqS6dzccLNlNBEVnBwEv4kNziwpLDx0/n1v8V32f4nP27QY+cmS/epznpax6T8jPnv/7JFii11fpMW1gwktt//NExKESEa6sAMHMlS22AkRWLz/qnmea36q7/b+rD9JU/ahNtjBBhxICkZ4CvioOzhECKtDrUU1Y+ciMo7iaVEX1HLjDvEUZosQymv/ceLf0nIgSGY5+dAclzmHg71Xj//NExKsSceKwAMnMmQkU9/RKuvhsf/MNstmG+i+zIzz/QwDRIPGZFFW16y4qIupHN+id06aI9VFUHhqBrH20Vbm7Kj4PKa7SOuW8ZLgIBnxbDHndh55TD1zO6JKJNICj//NExLQTIfK0AMLKmUOlRWH47JpJLJ2WWTFx8xTPSwiLogHSPAAlIoM55rKEiUqAh2n01HoSSpLlKRGCRpAoClayUKJoNmyFIDPJsWwk64R8JXrhYY1Y1u2NSRX9IdAk//NExLoRiaK4AMPKlI3iEQ7gMpBA9sZolPw//btuGdnvcdMMRqlOIKUoMrekorWFvt+o52y+7qqW9vFQ6cUcqWKxMzbVdbWVejSc3QQWXImgVmel2lLSAFedNa1d40vh//NExMYSaLqQAM4YTGEjQO8oGASZWFnayGDP67xumW/hFOxhCAFA2wKjeRd8Wdx2IEw3GKG2xtLX2JHaI4OWrJxWORgYCApqvVmbFFkX7dhqjCzevQ8ceYJEP6vy+/0z//NExM8U4SqIAMvMcL9PvM9t8y6+QhX/0QrZrjijOrFLZhNABle2afExABIqXABQ5FQMVghPHSkfofLqEQC7vj6+IelbD2SuVTP44jEos19oyqzDpUHCcqmapbSiy9bt//NExM4hGgKQANaYmVZp1pyns1XweorGtxyC0Wtc5X7X+lu3ObWgPJcBP4wg9jqi18hQ3PGy+tOWsk9F/UC5ByCwcpiUHqGGgLq3l5uDRXJhes6qB9ZRMzH1puGZNobw//NExJwa6ZKoAMZYlScE2iQTb5e2mN5tnxPNtnZe8+KIL7/17texVvvXuN0r9cU63ihETUPceNG7xCNy7sdCrn8n4KCC277YFLZNgz+eu+ofM3dpyU3IAei/iEB5nExX//NExIMS+Tq8AH4WcRctC6FxPiBWcOG3srvTs+9TCrnMOOuuvvVW1AaBOmg405OB10emiuVN8UNQjuZCKMVmZhFKB+QUve/bD6NhbQeRO9IFyxqQeT7Ui5miy9Hrd/bO//NExIoUOZ64AH4KlFk6RAyZn0N2POjB7wnVzgQ8RdolEUY64YsU5wZ6aiyqU10pFnzUBq5daZVtTGm8n1eR80piBVmMxSKySDVTNpz6unaTqC2UBoGi4SA3UssuVEsR//NExIwRiSK8AG4WcCqzhGTO5xJ99C2zQpmciSFNqQE2S7p6T4uUeZ9B1GszXmP5RWwkBLytf5N97Y/i5RYusPIqLGTRNttj5wUeDPk12f+k/ybkf5OYF0IMKVJ7u6aD//NExJgRSM6sAJYYcCFv/k4MU1Nb6lRBlkdQKJQGr7kQjw129WJRz33Y7iENjMwbqMTQCnL0tH1uUswitlr2PTH5RvZoZpXMyVWzBYBpHMT1/JUIjqGg5x+lm1IhwRpw//NExKUSANKQAMPMcDs4sksLsYEwSEJQgVHGEgNAmHsunlPF3JuTIkPWlVVkNShugyXnSf9hI0oaGHKren+nVGUinBJK8Izr4R1YtxYsgVylMyLhqWjERvCJydq716Jw//NExLARiWqQAGjElOKjUlGue8FFFHhBbaXxVR3O5qqkSml0CIQHKWtrqDC6lEYhguYZAJWSC0ygFWP9dOJKw1Z5GQf4hBNC3qYGhEHMdyQFaYRIhLeLFIeCwkEqQwHQ//NExLwQGNaUAEBGcAGQEJQlQsmsXJIxQsfK260Pev/66e8lRUYENXTGVMFCp6VDhAgLuygKQRdYrFFMzghm0tS/TUVNtTyWbgvGqmiUJ6FTAm4OUlhwDCInC4aJ6Gg3//NExM4R4W6QACiGlNldBWpnQQOlE3Czig0P9ORUd//k6tWijOCwjNoB8qsnYF/OUaqgsqXRxBc2DTVQRnfIPS7qcgrFTZr4JGn8rpr4D7LJLHyYRyuJ/q7UNnlmo84Y//NExNkSAJacAMPYTHN75gcIAATMHUrXX3h9FH/11ef0UHFbnpA3qRIxp1O8aA5+rCIDuwIzwmo980oCbQKSLqJes5Z+XfdA3iQB4ENJyhR0xE4w9+6nhw7eJEvSBVOO//NExOQUkSqoAMYacKBigfVCSHcfr/397qqK60r9dg3nbaFWlbjsMW2LDKOhYOyWaRkQEvJERFIHGR/M9X/iDtoQO+nuDrCtah/ANJdT/JNRqbdM6vdXlctQIObv6bzb//NExOQTyMqsAH4ecNMXvuLuG+05yS5hkNh63wP9II/hCvZckM1gdHsjpsyuBfgNoOPsWrVxGNXswWDxqbgcMDFXbXo/U4HQWEnBWGU1IYzWeRcw5J7yb3nHzbebWpX0//NExOcUGOa0AMYecZrYmfZhvJ7ybDqEVn6Xl5Xt2vtIA6dGAXeBcQGaQbsSqT8C4uQ/UQjJeqWLTAVpxngCjLVoAALmtYS1Va66LjH3vWhE5+GJ67L5aXoK7G+yl7C2//NExOkV4TawAH4eccm2fctsUevCeymzKuCWnw2jGDlmHSWlDMJLtdA8o67LHHuS55x2bsczhABxLbEMAUZ1IsiVaYTC2pA+7L46Y+jdq4JnUZwns93qX4rvGfnNMXx8//NExOQUAT64AH4ecdM0riPA+4m8Rdbk4x9+B09MdHpruiCQzUhgZ3syHxDRijxiIsIHgJinABcNYUa0vdmpWgc8IvcCmjFCNgVOktjPCEMWKLkJjOyoDBD+ttQSeNq8//NExOcVqVKsAH4MlV1rdUHZvNPsyZ+G1qSy9hAUbl0m1O34rSzVNU7AE3YlmdyhqVLeWfZ2N3r/4dpOYWM87+U7he3zfc8cv/D9733O0GzSQoKe0k7oQlOzOCIu0zhK//NExOMUgVasAU94AcIBobsuiieCRY0US3ATM1jygFSFkqSazCZSqdrcPpjNJeCUZYZcdyWYZyKMrRTeXLvdW4/2f/Vmy8K6nhdl2GtzHcquN1dECYQ5GJY77EGdyOQS//NExOQiKcqQAZjIADjUptW9/v2vy/OX27dSU0ESmblavhhrv6///8OawvZ5/nnYBP1B3xOEKmvGoLYC6b1htyyqSi7l/jSA4IhYbwJbNwAoy+BhoSpDyPBtOw3zuUqd//NExK4hEeqcAZjAAE6rnUO7mczbCjPlckS+kJpWZfZ4MJiXL1jDBJSvHUxGGcasW2BwQoeBgp1uVh/DeLlLXFWDT+bOZ0AhbUxS0s9YYUZ7az7P8DWdZ/rGjRI/xnNf//NExHwhKfKUAZh4AJiu6BT2AN//XTMm0ynKYCxTB+Tjz02+OgFpNnIdczSgyEzOWQQDANWUCZkhxbIDw2IOVEiDVpRPJJeOorhgYOeAANdsx+Bhk4GAGB4gBBYBxUDA//NExEog4qpUAZugAKAok6Q5J1fhZcAwGFZH2RQukwk6KLJK/juGNC+IeQQXJ4mSYHNevWyv/KR8gRFi+kilV//////dEwUhJbgYYG5UnCi10xNDy+X8CE5Oaub1dbMC//NExBkX+Y4AAc9AADW4KlHsbQweWLTszXnTanSYWKiYhw5VUFnKMJlFni2xrRdVrPXKpK71MQdhMYDpw9MuTWqwsS6zrr55zBw47jUL7YstzFsUAsWwREVSPQVFUqCU//NExAwRGInwAGJGTCx9labkSaLYxLWH0jVBSgE+KnSIaWWYsYoc9loCAvWAgKHTxYkFXdQCJMLE4/sCSCAVGT2u2V/9FQEjUOY6FEfRKHEegeB8QCswfZaissrBQQMG//NExBoQIHVkAGJGSRAxYJoqqqqpEqg1dNqaalkpWir///REq6Vf//7TRdZLTV////yqlUxBTUUzLjEwMFVVVVVVVVVVVVVVVVVVVVVVVVVVVVVVVVVVVVVVTEFNRTMu//NExCwAAANIAAAAADEwMFVVVVVVVVVVVVVVVVVVVVVVVVVVVVVVVVVVVVVVVVVVVVVVVVVVVVVVVVVVVVVVVVVVVVVVVVVVVVVVVVVVVVVVVVVVVVVVVVVVTEFNRTMu//NExH8AAANIAAAAADEwMFVVVVVVVVVVVVVVVVVVVVVVVVVVVVVVVVVVVVVVVVVVVVVVVVVVVVVVVVVVVVVVVVVVVVVVVVVVVVVVVVVVVVVVVVVVVVVVVVVVTEFNRTMu//NExKwAAANIAAAAADEwMFVVVVVVVVVVVVVVVVVVVVVVVVVVVVVVVVVVVVVVVVVVVVVVVVVVVVVVVVVVVVVVVVVVVVVVVVVVVVVVVVVVVVVVVVVVVVVVVVVVTEFNRTMu//NExKwAAANIAAAAADEwMFVVVVVVVVVVVVVVVVVVVVVVVVVVVVVVVVVVVVVVVVVVVVVVVVVVVVVVVVVVVVVVVVVVVVVVVVVVVVVVVVVVVVVVVVVVVVVVVVVVVVVVVVVV//NExKwAAANIAAAAAFVVVVVVVVVVVVVVVVVVVVVVVVVVVVVVVVVVVVVVVVVVVVVVVVVVVVVVVVVVVVVVVVVVVVVVVVVVVVVVVVVVVVVVVVVVVVVVVVVVVVVVVVVVVVVV//NExKwAAANIAAAAAFVVVVVVVVVVVVVVVVVVVVVVVVVVVVVVVVVVVVVVVVVVVVVVVVVVVVVVVVVVVVVVVVVVVVVVVVVVVVVVVVVVVVVVVVVVVVVVVVVVVVVVVVVVVVVV\" type=\"audio/x-wav\" />\n",
              "                    Your browser does not support the audio element.\n",
              "                </audio>\n",
              "              "
            ],
            "text/plain": [
              "<IPython.lib.display.Audio object>"
            ]
          },
          "metadata": {
            "tags": []
          },
          "execution_count": 3
        }
      ]
    },
    {
      "cell_type": "code",
      "metadata": {
        "id": "qtQe8T02DBe8",
        "colab": {
          "base_uri": "https://localhost:8080/"
        },
        "outputId": "1873bd7e-5f03-4cd6-e06e-c9dd0515db5d"
      },
      "source": [
        "!pip install numpy scipy librosa unidecode inflect librosa"
      ],
      "execution_count": null,
      "outputs": [
        {
          "output_type": "stream",
          "text": [
            "Requirement already satisfied: numpy in /usr/local/lib/python3.7/dist-packages (1.19.5)\n",
            "Requirement already satisfied: scipy in /usr/local/lib/python3.7/dist-packages (1.4.1)\n",
            "Requirement already satisfied: librosa in /usr/local/lib/python3.7/dist-packages (0.8.0)\n",
            "Requirement already satisfied: unidecode in /usr/local/lib/python3.7/dist-packages (1.2.0)\n",
            "Requirement already satisfied: inflect in /usr/local/lib/python3.7/dist-packages (2.1.0)\n",
            "Requirement already satisfied: joblib>=0.14 in /usr/local/lib/python3.7/dist-packages (from librosa) (1.0.1)\n",
            "Requirement already satisfied: soundfile>=0.9.0 in /usr/local/lib/python3.7/dist-packages (from librosa) (0.10.3.post1)\n",
            "Requirement already satisfied: numba>=0.43.0 in /usr/local/lib/python3.7/dist-packages (from librosa) (0.51.2)\n",
            "Requirement already satisfied: pooch>=1.0 in /usr/local/lib/python3.7/dist-packages (from librosa) (1.3.0)\n",
            "Requirement already satisfied: decorator>=3.0.0 in /usr/local/lib/python3.7/dist-packages (from librosa) (4.4.2)\n",
            "Requirement already satisfied: resampy>=0.2.2 in /usr/local/lib/python3.7/dist-packages (from librosa) (0.2.2)\n",
            "Requirement already satisfied: scikit-learn!=0.19.0,>=0.14.0 in /usr/local/lib/python3.7/dist-packages (from librosa) (0.22.2.post1)\n",
            "Requirement already satisfied: audioread>=2.0.0 in /usr/local/lib/python3.7/dist-packages (from librosa) (2.1.9)\n",
            "Requirement already satisfied: cffi>=1.0 in /usr/local/lib/python3.7/dist-packages (from soundfile>=0.9.0->librosa) (1.14.5)\n",
            "Requirement already satisfied: llvmlite<0.35,>=0.34.0.dev0 in /usr/local/lib/python3.7/dist-packages (from numba>=0.43.0->librosa) (0.34.0)\n",
            "Requirement already satisfied: setuptools in /usr/local/lib/python3.7/dist-packages (from numba>=0.43.0->librosa) (54.2.0)\n",
            "Requirement already satisfied: packaging in /usr/local/lib/python3.7/dist-packages (from pooch>=1.0->librosa) (20.9)\n",
            "Requirement already satisfied: requests in /usr/local/lib/python3.7/dist-packages (from pooch>=1.0->librosa) (2.23.0)\n",
            "Requirement already satisfied: appdirs in /usr/local/lib/python3.7/dist-packages (from pooch>=1.0->librosa) (1.4.4)\n",
            "Requirement already satisfied: six>=1.3 in /usr/local/lib/python3.7/dist-packages (from resampy>=0.2.2->librosa) (1.15.0)\n",
            "Requirement already satisfied: pycparser in /usr/local/lib/python3.7/dist-packages (from cffi>=1.0->soundfile>=0.9.0->librosa) (2.20)\n",
            "Requirement already satisfied: pyparsing>=2.0.2 in /usr/local/lib/python3.7/dist-packages (from packaging->pooch>=1.0->librosa) (2.4.7)\n",
            "Requirement already satisfied: certifi>=2017.4.17 in /usr/local/lib/python3.7/dist-packages (from requests->pooch>=1.0->librosa) (2020.12.5)\n",
            "Requirement already satisfied: chardet<4,>=3.0.2 in /usr/local/lib/python3.7/dist-packages (from requests->pooch>=1.0->librosa) (3.0.4)\n",
            "Requirement already satisfied: urllib3!=1.25.0,!=1.25.1,<1.26,>=1.21.1 in /usr/local/lib/python3.7/dist-packages (from requests->pooch>=1.0->librosa) (1.24.3)\n",
            "Requirement already satisfied: idna<3,>=2.5 in /usr/local/lib/python3.7/dist-packages (from requests->pooch>=1.0->librosa) (2.10)\n"
          ],
          "name": "stdout"
        }
      ]
    }
  ]
}
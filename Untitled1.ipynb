{
 "cells": [
  {
   "cell_type": "code",
   "execution_count": 2,
   "metadata": {},
   "outputs": [],
   "source": [
    "from sklearn.linear_model import LinearRegression\n",
    "from sklearn.metrics import mean_squared_error\n",
    "from sklearn import linear_model\n",
    "import pandas as pd\n",
    "import statsmodels.api as sm\n",
    "import matplotlib.pyplot as plt\n",
    "import seaborn as sns\n",
    "                         \n",
    "from sklearn.metrics import mean_absolute_error, r2_score\n",
    "from sklearn.model_selection import train_test_split"
   ]
  },
  {
   "cell_type": "code",
   "execution_count": 51,
   "metadata": {},
   "outputs": [],
   "source": [
    "blogers=pd.read_csv('bloggers_price.csv',encoding='cp1251',sep=';')\n"
   ]
  },
  {
   "cell_type": "code",
   "execution_count": 52,
   "metadata": {},
   "outputs": [
    {
     "name": "stdout",
     "output_type": "stream",
     "text": [
      "0      715000\n",
      "1      300000\n",
      "2      150000\n",
      "3      330000\n",
      "4      286000\n",
      "5      215000\n",
      "6      250000\n",
      "7      100000\n",
      "8      150000\n",
      "9      120000\n",
      "10     200000\n",
      "11     130000\n",
      "12     180000\n",
      "13     210000\n",
      "14     130000\n",
      "15     130000\n",
      "16     180000\n",
      "17     160000\n",
      "18     230000\n",
      "19      71500\n",
      "20     215000\n",
      "21      80000\n",
      "22      70000\n",
      "23      80000\n",
      "24      90000\n",
      "25      50000\n",
      "26     180000\n",
      "27     150000\n",
      "28     100000\n",
      "29      65000\n",
      "        ...  \n",
      "77      43000\n",
      "78      30000\n",
      "79      25000\n",
      "80      29000\n",
      "81      15000\n",
      "82      33000\n",
      "83       5000\n",
      "84      10000\n",
      "85      15000\n",
      "86      28000\n",
      "87      50000\n",
      "88      23000\n",
      "89      25000\n",
      "90      29000\n",
      "91      10000\n",
      "92       7000\n",
      "93      20000\n",
      "94      13000\n",
      "95      20000\n",
      "96      33000\n",
      "97      10000\n",
      "98      10000\n",
      "99      15000\n",
      "100      9000\n",
      "101     22000\n",
      "102     11000\n",
      "103      5000\n",
      "104      8000\n",
      "105      3500\n",
      "106      4000\n",
      "Name: price, Length: 107, dtype: int64\n"
     ]
    }
   ],
   "source": [
    "X=blogers[['followers','photo_view','video_view','sories_view']]\n",
    "y=blogers['price']\n",
    "print(y)"
   ]
  },
  {
   "cell_type": "code",
   "execution_count": 7,
   "metadata": {},
   "outputs": [
    {
     "data": {
      "text/plain": [
       "array([ 0.0590671 ,  0.06052677,  0.00774241, -0.01099433])"
      ]
     },
     "execution_count": 7,
     "metadata": {},
     "output_type": "execute_result"
    }
   ],
   "source": [
    "X_train, X_test, y_train, y_test = train_test_split(X, y, test_size=0.5, random_state=42)\n",
    "reg = LinearRegression().fit(X_train, y_train)\n",
    "reg.coef_\n"
   ]
  },
  {
   "cell_type": "code",
   "execution_count": 8,
   "metadata": {},
   "outputs": [
    {
     "data": {
      "text/plain": [
       "1920440799.790841"
      ]
     },
     "execution_count": 8,
     "metadata": {},
     "output_type": "execute_result"
    }
   ],
   "source": [
    "y_pred=reg.predict(X_test)\n",
    "mean_squared_error(y_test, y_pred)"
   ]
  },
  {
   "cell_type": "code",
   "execution_count": 9,
   "metadata": {},
   "outputs": [
    {
     "data": {
      "text/plain": [
       "Ridge(alpha=0.5, copy_X=True, fit_intercept=True, max_iter=None,\n",
       "   normalize=False, random_state=None, solver='auto', tol=0.001)"
      ]
     },
     "execution_count": 9,
     "metadata": {},
     "output_type": "execute_result"
    }
   ],
   "source": [
    "regridge=linear_model.Ridge(alpha=0.5)\n",
    "regridge.fit(X_train,y_train)"
   ]
  },
  {
   "cell_type": "code",
   "execution_count": 10,
   "metadata": {},
   "outputs": [
    {
     "data": {
      "text/plain": [
       "1920440799.7904332"
      ]
     },
     "execution_count": 10,
     "metadata": {},
     "output_type": "execute_result"
    }
   ],
   "source": [
    "y_predridge=regridge.predict(X_test)\n",
    "mean_squared_error(y_test,y_predridge)"
   ]
  },
  {
   "cell_type": "code",
   "execution_count": 11,
   "metadata": {},
   "outputs": [
    {
     "data": {
      "text/plain": [
       "Lasso(alpha=0.1, copy_X=True, fit_intercept=True, max_iter=1000,\n",
       "   normalize=False, positive=False, precompute=False, random_state=None,\n",
       "   selection='cyclic', tol=0.0001, warm_start=False)"
      ]
     },
     "execution_count": 11,
     "metadata": {},
     "output_type": "execute_result"
    }
   ],
   "source": [
    "reglasso = linear_model.Lasso(alpha=0.1)\n",
    "reglasso.fit(X_train,y_train)"
   ]
  },
  {
   "cell_type": "code",
   "execution_count": 12,
   "metadata": {},
   "outputs": [
    {
     "data": {
      "text/plain": [
       "1920440799.7599547"
      ]
     },
     "execution_count": 12,
     "metadata": {},
     "output_type": "execute_result"
    }
   ],
   "source": [
    "y_reglasso=reglasso.predict(X_test)\n",
    "mean_squared_error(y_test,y_reglasso)"
   ]
  },
  {
   "cell_type": "code",
   "execution_count": 18,
   "metadata": {},
   "outputs": [
    {
     "data": {
      "text/plain": [
       "1.0"
      ]
     },
     "execution_count": 18,
     "metadata": {},
     "output_type": "execute_result"
    }
   ],
   "source": [
    "reg.score(X_test,y_pred)"
   ]
  },
  {
   "cell_type": "code",
   "execution_count": 28,
   "metadata": {},
   "outputs": [],
   "source": [
    "\n",
    "y=blogers['price']\n",
    "\n",
    "blogers['like_perc'] = blogers.followers/(blogers.photo_view+blogers.video_view+blogers.sories_view)\n",
    "X=blogers[['followers','like_perc']]"
   ]
  },
  {
   "cell_type": "code",
   "execution_count": 14,
   "metadata": {},
   "outputs": [],
   "source": [
    "X_train, X_test, y_train, y_test = train_test_split(X, y, test_size=0.5, random_state=42)\n",
    "reg = LinearRegression().fit(X_train, y_train)"
   ]
  },
  {
   "cell_type": "code",
   "execution_count": 15,
   "metadata": {},
   "outputs": [
    {
     "data": {
      "text/plain": [
       "1540294730.6000156"
      ]
     },
     "execution_count": 15,
     "metadata": {},
     "output_type": "execute_result"
    }
   ],
   "source": [
    "y_pred=reg.predict(X_test)\n",
    "mean_squared_error(y_test, y_pred)"
   ]
  },
  {
   "cell_type": "code",
   "execution_count": 28,
   "metadata": {},
   "outputs": [
    {
     "data": {
      "text/plain": [
       "1.0"
      ]
     },
     "execution_count": 28,
     "metadata": {},
     "output_type": "execute_result"
    }
   ],
   "source": [
    "reg.score(X_test,y_pred)"
   ]
  },
  {
   "cell_type": "code",
   "execution_count": 4,
   "metadata": {},
   "outputs": [],
   "source": [
    "from sklearn.model_selection import KFold\n",
    "import numpy as np"
   ]
  },
  {
   "cell_type": "code",
   "execution_count": 30,
   "metadata": {},
   "outputs": [
    {
     "name": "stdout",
     "output_type": "stream",
     "text": [
      "TRAIN: [ 54  55  56  57  58  59  60  61  62  63  64  65  66  67  68  69  70  71\n",
      "  72  73  74  75  76  77  78  79  80  81  82  83  84  85  86  87  88  89\n",
      "  90  91  92  93  94  95  96  97  98  99 100 101 102 103 104 105 106] TEST: [ 0  1  2  3  4  5  6  7  8  9 10 11 12 13 14 15 16 17 18 19 20 21 22 23\n",
      " 24 25 26 27 28 29 30 31 32 33 34 35 36 37 38 39 40 41 42 43 44 45 46 47\n",
      " 48 49 50 51 52 53]\n",
      "3363654923.4121027\n",
      "TRAIN: [ 0  1  2  3  4  5  6  7  8  9 10 11 12 13 14 15 16 17 18 19 20 21 22 23\n",
      " 24 25 26 27 28 29 30 31 32 33 34 35 36 37 38 39 40 41 42 43 44 45 46 47\n",
      " 48 49 50 51 52 53] TEST: [ 54  55  56  57  58  59  60  61  62  63  64  65  66  67  68  69  70  71\n",
      "  72  73  74  75  76  77  78  79  80  81  82  83  84  85  86  87  88  89\n",
      "  90  91  92  93  94  95  96  97  98  99 100 101 102 103 104 105 106]\n",
      "282315864.0363026\n",
      "LinearRegression 1822985393.7242026\n",
      "TRAIN: [ 54  55  56  57  58  59  60  61  62  63  64  65  66  67  68  69  70  71\n",
      "  72  73  74  75  76  77  78  79  80  81  82  83  84  85  86  87  88  89\n",
      "  90  91  92  93  94  95  96  97  98  99 100 101 102 103 104 105 106] TEST: [ 0  1  2  3  4  5  6  7  8  9 10 11 12 13 14 15 16 17 18 19 20 21 22 23\n",
      " 24 25 26 27 28 29 30 31 32 33 34 35 36 37 38 39 40 41 42 43 44 45 46 47\n",
      " 48 49 50 51 52 53]\n",
      "3363654923.4121027\n",
      "TRAIN: [ 0  1  2  3  4  5  6  7  8  9 10 11 12 13 14 15 16 17 18 19 20 21 22 23\n",
      " 24 25 26 27 28 29 30 31 32 33 34 35 36 37 38 39 40 41 42 43 44 45 46 47\n",
      " 48 49 50 51 52 53] TEST: [ 54  55  56  57  58  59  60  61  62  63  64  65  66  67  68  69  70  71\n",
      "  72  73  74  75  76  77  78  79  80  81  82  83  84  85  86  87  88  89\n",
      "  90  91  92  93  94  95  96  97  98  99 100 101 102 103 104 105 106]\n",
      "282315864.0363026\n",
      "Lasso 1822985923.8889587\n",
      "TRAIN: [ 54  55  56  57  58  59  60  61  62  63  64  65  66  67  68  69  70  71\n",
      "  72  73  74  75  76  77  78  79  80  81  82  83  84  85  86  87  88  89\n",
      "  90  91  92  93  94  95  96  97  98  99 100 101 102 103 104 105 106] TEST: [ 0  1  2  3  4  5  6  7  8  9 10 11 12 13 14 15 16 17 18 19 20 21 22 23\n",
      " 24 25 26 27 28 29 30 31 32 33 34 35 36 37 38 39 40 41 42 43 44 45 46 47\n",
      " 48 49 50 51 52 53]\n",
      "3363654923.4121027\n",
      "TRAIN: [ 0  1  2  3  4  5  6  7  8  9 10 11 12 13 14 15 16 17 18 19 20 21 22 23\n",
      " 24 25 26 27 28 29 30 31 32 33 34 35 36 37 38 39 40 41 42 43 44 45 46 47\n",
      " 48 49 50 51 52 53] TEST: [ 54  55  56  57  58  59  60  61  62  63  64  65  66  67  68  69  70  71\n",
      "  72  73  74  75  76  77  78  79  80  81  82  83  84  85  86  87  88  89\n",
      "  90  91  92  93  94  95  96  97  98  99 100 101 102 103 104 105 106]\n",
      "282315864.0363026\n",
      "Ridge 1823068868.1872933\n"
     ]
    }
   ],
   "source": [
    "blogers=pd.read_csv('bloggers_price.csv',encoding='cp1251',sep=';')\n",
    "X=blogers[['followers','photo_view','video_view','sories_view']]\n",
    "y=blogers['price']\n",
    "r=[]\n",
    "blogers['like_perc'] = blogers.followers/(blogers.photo_view+blogers.video_view+blogers.sories_view)\n",
    "\n",
    "X=blogers[['followers','like_perc']]\n",
    "\n",
    "\n",
    "\n",
    "\n",
    "kf = KFold(n_splits=2)\n",
    "i=0\n",
    "for train_index, test_index in kf.split(X):\n",
    "    \n",
    "    print(\"TRAIN:\", train_index, \"TEST:\", test_index)\n",
    "    X_train, X_test = X.iloc[min(train_index):max(train_index)], X.iloc[min(test_index):max(test_index)] \n",
    "    \n",
    "    y_train, y_test = y.iloc[min(train_index):max(train_index)], y.iloc[min(test_index):max(test_index)]\n",
    "    reg = LinearRegression().fit(X_train, y_train)\n",
    "    y_pred=reg.predict(X_test)\n",
    "    r.append(mean_squared_error(y_test, y_pred))\n",
    "    print(r[i])\n",
    "    i+=1\n",
    "print('LinearRegression',np.mean(r))\n",
    "\n",
    "i=0\n",
    "for train_index, test_index in kf.split(X):\n",
    "    \n",
    "    print(\"TRAIN:\", train_index, \"TEST:\", test_index)\n",
    "    X_train, X_test = X.iloc[min(train_index):max(train_index)], X.iloc[min(test_index):max(test_index)] \n",
    "    \n",
    "    y_train, y_test = y.iloc[min(train_index):max(train_index)], y.iloc[min(test_index):max(test_index)]\n",
    "    reg = linear_model.Lasso(alpha=0.1).fit(X_train, y_train)\n",
    "    y_pred=reg.predict(X_test)\n",
    "    r.append(mean_squared_error(y_test, y_pred))\n",
    "    print(r[i])\n",
    "    i+=1\n",
    "print('Lasso',np.mean(r))\n",
    "\n",
    "\n",
    "i=0\n",
    "for train_index, test_index in kf.split(X):\n",
    "    \n",
    "    print(\"TRAIN:\", train_index, \"TEST:\", test_index)\n",
    "    X_train, X_test = X.iloc[min(train_index):max(train_index)], X.iloc[min(test_index):max(test_index)] \n",
    "    \n",
    "    y_train, y_test = y.iloc[min(train_index):max(train_index)], y.iloc[min(test_index):max(test_index)]\n",
    "    reg = linear_model.Ridge(alpha=0.5).fit(X_train, y_train)\n",
    "    y_pred=reg.predict(X_test)\n",
    "    r.append(mean_squared_error(y_test, y_pred))\n",
    "    print(r[i])\n",
    "    i+=1\n",
    "print('Ridge',np.mean(r))\n",
    "   \n",
    "    \n",
    "\n",
    "\n"
   ]
  },
  {
   "cell_type": "code",
   "execution_count": 29,
   "metadata": {},
   "outputs": [
    {
     "data": {
      "text/html": [
       "<div>\n",
       "<style scoped>\n",
       "    .dataframe tbody tr th:only-of-type {\n",
       "        vertical-align: middle;\n",
       "    }\n",
       "\n",
       "    .dataframe tbody tr th {\n",
       "        vertical-align: top;\n",
       "    }\n",
       "\n",
       "    .dataframe thead th {\n",
       "        text-align: right;\n",
       "    }\n",
       "</style>\n",
       "<table border=\"1\" class=\"dataframe\">\n",
       "  <thead>\n",
       "    <tr style=\"text-align: right;\">\n",
       "      <th></th>\n",
       "      <th>bloger</th>\n",
       "      <th>followers</th>\n",
       "      <th>photo_view</th>\n",
       "      <th>video_view</th>\n",
       "      <th>sories_view</th>\n",
       "      <th>price</th>\n",
       "      <th>price_video</th>\n",
       "      <th>price_stories</th>\n",
       "      <th>username</th>\n",
       "      <th>like_perc</th>\n",
       "    </tr>\n",
       "  </thead>\n",
       "  <tbody>\n",
       "    <tr>\n",
       "      <th>0</th>\n",
       "      <td>Гусейн Гасанов</td>\n",
       "      <td>7200000</td>\n",
       "      <td>5000000</td>\n",
       "      <td>5000000</td>\n",
       "      <td>3400000</td>\n",
       "      <td>715000</td>\n",
       "      <td>990000</td>\n",
       "      <td>230000</td>\n",
       "      <td>gusein.gasanov</td>\n",
       "      <td>0.537313</td>\n",
       "    </tr>\n",
       "    <tr>\n",
       "      <th>1</th>\n",
       "      <td>Михаил Литвин</td>\n",
       "      <td>3800000</td>\n",
       "      <td>550000</td>\n",
       "      <td>4000000</td>\n",
       "      <td>2300000</td>\n",
       "      <td>300000</td>\n",
       "      <td>1000000</td>\n",
       "      <td>250000</td>\n",
       "      <td>mikhail_litvin</td>\n",
       "      <td>0.554745</td>\n",
       "    </tr>\n",
       "    <tr>\n",
       "      <th>2</th>\n",
       "      <td>Ян ГО</td>\n",
       "      <td>3170000</td>\n",
       "      <td>800000</td>\n",
       "      <td>1000000</td>\n",
       "      <td>380000</td>\n",
       "      <td>150000</td>\n",
       "      <td>300000</td>\n",
       "      <td>90000</td>\n",
       "      <td>yan_gordienko</td>\n",
       "      <td>1.454128</td>\n",
       "    </tr>\n",
       "    <tr>\n",
       "      <th>3</th>\n",
       "      <td>Татарка (Абрамова Лилия)</td>\n",
       "      <td>3100000</td>\n",
       "      <td>1000000</td>\n",
       "      <td>2000000</td>\n",
       "      <td>300000</td>\n",
       "      <td>330000</td>\n",
       "      <td>570000</td>\n",
       "      <td>90000</td>\n",
       "      <td>tatarkafm</td>\n",
       "      <td>0.939394</td>\n",
       "    </tr>\n",
       "    <tr>\n",
       "      <th>4</th>\n",
       "      <td>Марина Федункив</td>\n",
       "      <td>2800000</td>\n",
       "      <td>1000000</td>\n",
       "      <td>700000</td>\n",
       "      <td>150000</td>\n",
       "      <td>286000</td>\n",
       "      <td>430000</td>\n",
       "      <td>90000</td>\n",
       "      <td>marina_phedunkiv</td>\n",
       "      <td>1.513514</td>\n",
       "    </tr>\n",
       "  </tbody>\n",
       "</table>\n",
       "</div>"
      ],
      "text/plain": [
       "                     bloger  followers  photo_view  video_view  sories_view  \\\n",
       "0            Гусейн Гасанов    7200000     5000000     5000000      3400000   \n",
       "1             Михаил Литвин    3800000      550000     4000000      2300000   \n",
       "2                     Ян ГО    3170000      800000     1000000       380000   \n",
       "3  Татарка (Абрамова Лилия)    3100000     1000000     2000000       300000   \n",
       "4           Марина Федункив    2800000     1000000      700000       150000   \n",
       "\n",
       "    price  price_video  price_stories          username  like_perc  \n",
       "0  715000       990000         230000    gusein.gasanov   0.537313  \n",
       "1  300000      1000000         250000    mikhail_litvin   0.554745  \n",
       "2  150000       300000          90000     yan_gordienko   1.454128  \n",
       "3  330000       570000          90000         tatarkafm   0.939394  \n",
       "4  286000       430000          90000  marina_phedunkiv   1.513514  "
      ]
     },
     "execution_count": 29,
     "metadata": {},
     "output_type": "execute_result"
    }
   ],
   "source": [
    "blogers['like_perc'] = blogers.followers/(blogers.photo_view+blogers.video_view+blogers.sories_view)\n",
    "blogers.head()"
   ]
  }
 ],
 "metadata": {
  "kernelspec": {
   "display_name": "Python 3",
   "language": "python",
   "name": "python3"
  },
  "language_info": {
   "codemirror_mode": {
    "name": "ipython",
    "version": 3
   },
   "file_extension": ".py",
   "mimetype": "text/x-python",
   "name": "python",
   "nbconvert_exporter": "python",
   "pygments_lexer": "ipython3",
   "version": "3.6.5"
  }
 },
 "nbformat": 4,
 "nbformat_minor": 2
}

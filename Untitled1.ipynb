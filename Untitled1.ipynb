{
 "cells": [
  {
   "cell_type": "code",
   "execution_count": 8,
   "metadata": {},
   "outputs": [],
   "source": [
    "from sklearn.linear_model import LinearRegression\n",
    "from sklearn.metrics import mean_squared_error\n",
    "from sklearn import linear_model\n",
    "import pandas as pd\n",
    "import statsmodels.api as sm\n",
    "import matplotlib.pyplot as plt\n",
    "import seaborn as sns\n",
    "                         \n",
    "from sklearn.metrics import mean_absolute_error, r2_score\n",
    "from sklearn.model_selection import train_test_split"
   ]
  },
  {
   "cell_type": "code",
   "execution_count": 5,
   "metadata": {},
   "outputs": [
    {
     "data": {
      "text/html": [
       "<div>\n",
       "<style scoped>\n",
       "    .dataframe tbody tr th:only-of-type {\n",
       "        vertical-align: middle;\n",
       "    }\n",
       "\n",
       "    .dataframe tbody tr th {\n",
       "        vertical-align: top;\n",
       "    }\n",
       "\n",
       "    .dataframe thead th {\n",
       "        text-align: right;\n",
       "    }\n",
       "</style>\n",
       "<table border=\"1\" class=\"dataframe\">\n",
       "  <thead>\n",
       "    <tr style=\"text-align: right;\">\n",
       "      <th></th>\n",
       "      <th>bloger</th>\n",
       "      <th>followers</th>\n",
       "      <th>photo_view</th>\n",
       "      <th>video_view</th>\n",
       "      <th>sories_view</th>\n",
       "      <th>price</th>\n",
       "      <th>price_video</th>\n",
       "      <th>price_stories</th>\n",
       "      <th>username</th>\n",
       "    </tr>\n",
       "  </thead>\n",
       "  <tbody>\n",
       "    <tr>\n",
       "      <th>0</th>\n",
       "      <td>Гусейн Гасанов</td>\n",
       "      <td>7200000</td>\n",
       "      <td>5000000</td>\n",
       "      <td>5000000</td>\n",
       "      <td>3400000</td>\n",
       "      <td>715000</td>\n",
       "      <td>990000</td>\n",
       "      <td>230000</td>\n",
       "      <td>gusein.gasanov</td>\n",
       "    </tr>\n",
       "    <tr>\n",
       "      <th>1</th>\n",
       "      <td>Михаил Литвин</td>\n",
       "      <td>3800000</td>\n",
       "      <td>550000</td>\n",
       "      <td>4000000</td>\n",
       "      <td>2300000</td>\n",
       "      <td>300000</td>\n",
       "      <td>1000000</td>\n",
       "      <td>250000</td>\n",
       "      <td>mikhail_litvin</td>\n",
       "    </tr>\n",
       "    <tr>\n",
       "      <th>2</th>\n",
       "      <td>Ян ГО</td>\n",
       "      <td>3170000</td>\n",
       "      <td>800000</td>\n",
       "      <td>1000000</td>\n",
       "      <td>380000</td>\n",
       "      <td>150000</td>\n",
       "      <td>300000</td>\n",
       "      <td>90000</td>\n",
       "      <td>yan_gordienko</td>\n",
       "    </tr>\n",
       "    <tr>\n",
       "      <th>3</th>\n",
       "      <td>Татарка (Абрамова Лилия)</td>\n",
       "      <td>3100000</td>\n",
       "      <td>1000000</td>\n",
       "      <td>2000000</td>\n",
       "      <td>300000</td>\n",
       "      <td>330000</td>\n",
       "      <td>570000</td>\n",
       "      <td>90000</td>\n",
       "      <td>tatarkafm</td>\n",
       "    </tr>\n",
       "    <tr>\n",
       "      <th>4</th>\n",
       "      <td>Марина Федункив</td>\n",
       "      <td>2800000</td>\n",
       "      <td>1000000</td>\n",
       "      <td>700000</td>\n",
       "      <td>150000</td>\n",
       "      <td>286000</td>\n",
       "      <td>430000</td>\n",
       "      <td>90000</td>\n",
       "      <td>marina_phedunkiv</td>\n",
       "    </tr>\n",
       "  </tbody>\n",
       "</table>\n",
       "</div>"
      ],
      "text/plain": [
       "                     bloger  followers  photo_view  video_view  sories_view  \\\n",
       "0            Гусейн Гасанов    7200000     5000000     5000000      3400000   \n",
       "1             Михаил Литвин    3800000      550000     4000000      2300000   \n",
       "2                     Ян ГО    3170000      800000     1000000       380000   \n",
       "3  Татарка (Абрамова Лилия)    3100000     1000000     2000000       300000   \n",
       "4           Марина Федункив    2800000     1000000      700000       150000   \n",
       "\n",
       "    price  price_video  price_stories          username  \n",
       "0  715000       990000         230000    gusein.gasanov  \n",
       "1  300000      1000000         250000    mikhail_litvin  \n",
       "2  150000       300000          90000     yan_gordienko  \n",
       "3  330000       570000          90000         tatarkafm  \n",
       "4  286000       430000          90000  marina_phedunkiv  "
      ]
     },
     "execution_count": 5,
     "metadata": {},
     "output_type": "execute_result"
    }
   ],
   "source": [
    "blogers=pd.read_csv('bloggers_price.csv',encoding='utf-8',sep=';')\n",
    "blogers.head()"
   ]
  },
  {
   "cell_type": "code",
   "execution_count": 6,
   "metadata": {},
   "outputs": [],
   "source": [
    "X=blogers[['followers','photo_view','video_view','sories_view']]\n",
    "y=blogers['price']"
   ]
  },
  {
   "cell_type": "code",
   "execution_count": 10,
   "metadata": {},
   "outputs": [
    {
     "data": {
      "text/plain": [
       "array([ 0.0590671 ,  0.06052677,  0.00774241, -0.01099433])"
      ]
     },
     "execution_count": 10,
     "metadata": {},
     "output_type": "execute_result"
    }
   ],
   "source": [
    "X_train, X_test, y_train, y_test = train_test_split(X, y, test_size=0.5, random_state=42)\n",
    "reg = LinearRegression().fit(X_train, y_train)\n",
    "reg.coef_\n"
   ]
  },
  {
   "cell_type": "code",
   "execution_count": 11,
   "metadata": {},
   "outputs": [
    {
     "data": {
      "text/plain": [
       "1920440799.790841"
      ]
     },
     "execution_count": 11,
     "metadata": {},
     "output_type": "execute_result"
    }
   ],
   "source": [
    "y_pred=reg.predict(X_test)\n",
    "mean_squared_error(y_test, y_pred)"
   ]
  },
  {
   "cell_type": "code",
   "execution_count": 12,
   "metadata": {},
   "outputs": [
    {
     "data": {
      "text/plain": [
       "Ridge(alpha=0.5, copy_X=True, fit_intercept=True, max_iter=None,\n",
       "   normalize=False, random_state=None, solver='auto', tol=0.001)"
      ]
     },
     "execution_count": 12,
     "metadata": {},
     "output_type": "execute_result"
    }
   ],
   "source": [
    "regridge=linear_model.Ridge(alpha=0.5)\n",
    "regridge.fit(X_train,y_train)"
   ]
  },
  {
   "cell_type": "code",
   "execution_count": 14,
   "metadata": {},
   "outputs": [
    {
     "data": {
      "text/plain": [
       "1920440799.7904317"
      ]
     },
     "execution_count": 14,
     "metadata": {},
     "output_type": "execute_result"
    }
   ],
   "source": [
    "y_predridge=regridge.predict(X_test)\n",
    "mean_squared_error(y_test,y_predridge)"
   ]
  },
  {
   "cell_type": "code",
   "execution_count": 15,
   "metadata": {},
   "outputs": [
    {
     "data": {
      "text/plain": [
       "Lasso(alpha=0.1, copy_X=True, fit_intercept=True, max_iter=1000,\n",
       "   normalize=False, positive=False, precompute=False, random_state=None,\n",
       "   selection='cyclic', tol=0.0001, warm_start=False)"
      ]
     },
     "execution_count": 15,
     "metadata": {},
     "output_type": "execute_result"
    }
   ],
   "source": [
    "reglasso = linear_model.Lasso(alpha=0.1)\n",
    "reglasso.fit(X_train,y_train)"
   ]
  },
  {
   "cell_type": "code",
   "execution_count": 16,
   "metadata": {},
   "outputs": [
    {
     "data": {
      "text/plain": [
       "1920440799.7599516"
      ]
     },
     "execution_count": 16,
     "metadata": {},
     "output_type": "execute_result"
    }
   ],
   "source": [
    "y_reglasso=reglasso.predict(X_test)\n",
    "mean_squared_error(y_test,y_reglasso)"
   ]
  },
  {
   "cell_type": "code",
   "execution_count": 18,
   "metadata": {},
   "outputs": [
    {
     "data": {
      "text/plain": [
       "1.0"
      ]
     },
     "execution_count": 18,
     "metadata": {},
     "output_type": "execute_result"
    }
   ],
   "source": [
    "reg.score(X_test,y_pred)"
   ]
  },
  {
   "cell_type": "code",
   "execution_count": 25,
   "metadata": {},
   "outputs": [],
   "source": [
    "\n",
    "y=blogers['price']\n",
    "\n",
    "blogers['like_perc'] = blogers.followers/(blogers.photo_view+blogers.video_view+blogers.sories_view)\n",
    "X=blogers[['followers','like_perc']]"
   ]
  },
  {
   "cell_type": "code",
   "execution_count": 26,
   "metadata": {},
   "outputs": [],
   "source": [
    "X_train, X_test, y_train, y_test = train_test_split(X, y, test_size=0.5, random_state=42)\n",
    "reg = LinearRegression().fit(X_train, y_train)"
   ]
  },
  {
   "cell_type": "code",
   "execution_count": 27,
   "metadata": {},
   "outputs": [
    {
     "data": {
      "text/plain": [
       "1540294730.6000152"
      ]
     },
     "execution_count": 27,
     "metadata": {},
     "output_type": "execute_result"
    }
   ],
   "source": [
    "y_pred=reg.predict(X_test)\n",
    "mean_squared_error(y_test, y_pred)"
   ]
  },
  {
   "cell_type": "code",
   "execution_count": 28,
   "metadata": {},
   "outputs": [
    {
     "data": {
      "text/plain": [
       "1.0"
      ]
     },
     "execution_count": 28,
     "metadata": {},
     "output_type": "execute_result"
    }
   ],
   "source": [
    "reg.score(X_test,y_pred)"
   ]
  },
  {
   "cell_type": "code",
   "execution_count": 30,
   "metadata": {},
   "outputs": [
    {
     "data": {
      "text/plain": [
       "0      7200000\n",
       "1      3800000\n",
       "2      3170000\n",
       "3      3100000\n",
       "4      2800000\n",
       "5      2500000\n",
       "6      2500000\n",
       "7      2300000\n",
       "8      2600000\n",
       "9      2100000\n",
       "10     2300000\n",
       "11     1900000\n",
       "12     1800000\n",
       "13     1700000\n",
       "14     1600000\n",
       "15     1545000\n",
       "16     1600000\n",
       "17     1900000\n",
       "18     1500000\n",
       "19     1445000\n",
       "20     1600000\n",
       "21     1400000\n",
       "22     1500000\n",
       "23     1320000\n",
       "24     1300000\n",
       "25     1200000\n",
       "26     1200000\n",
       "27     1200000\n",
       "28     1300000\n",
       "29     1200000\n",
       "        ...   \n",
       "77      204000\n",
       "78      220000\n",
       "79      229000\n",
       "80      215000\n",
       "81      201000\n",
       "82      189000\n",
       "83      183000\n",
       "84      182000\n",
       "85      156000\n",
       "86      155000\n",
       "87      149000\n",
       "88      155000\n",
       "89      145000\n",
       "90      149000\n",
       "91      154000\n",
       "92      145000\n",
       "93      145000\n",
       "94      136000\n",
       "95      126000\n",
       "96      130000\n",
       "97      129000\n",
       "98      117000\n",
       "99      121000\n",
       "100     111000\n",
       "101      83000\n",
       "102      62200\n",
       "103      55000\n",
       "104      40000\n",
       "105      28000\n",
       "106      27400\n",
       "Name: followers, Length: 107, dtype: int64"
      ]
     },
     "execution_count": 30,
     "metadata": {},
     "output_type": "execute_result"
    }
   ],
   "source": [
    "clear\n"
   ]
  }
 ],
 "metadata": {
  "kernelspec": {
   "display_name": "Python 3",
   "language": "python",
   "name": "python3"
  },
  "language_info": {
   "codemirror_mode": {
    "name": "ipython",
    "version": 3
   },
   "file_extension": ".py",
   "mimetype": "text/x-python",
   "name": "python",
   "nbconvert_exporter": "python",
   "pygments_lexer": "ipython3",
   "version": "3.6.5"
  }
 },
 "nbformat": 4,
 "nbformat_minor": 2
}

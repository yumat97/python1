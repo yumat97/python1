{
 "cells": [
  {
   "cell_type": "code",
   "execution_count": 3,
   "metadata": {},
   "outputs": [],
   "source": [
    "import requests"
   ]
  },
  {
   "cell_type": "code",
   "execution_count": 4,
   "metadata": {},
   "outputs": [],
   "source": [
    "url = 'https://rest.epicstars.com/api/v1/users/platform/?orderby=-order_activity_rating&type=instagram&limit=20&offset=20'"
   ]
  },
  {
   "cell_type": "code",
   "execution_count": 5,
   "metadata": {},
   "outputs": [],
   "source": [
    "headers = {\n",
    "\"Accept\" : \"application/json, text/javascript, */*; q=0.01\",\n",
    "\"Accept-Encoding\" : \"gzip, deflate, br\",\n",
    "\"Accept-Language\" : \"en-US,en;q=0.5\",\n",
    "\"Connection\" : \"keep-alive\",\n",
    "\"Cookie\" : \"_ym_uid=1551943820407756449; _ym_d=1551943820; _ga=GA1.2.1938602214.1551943821; _gid=GA1.2.420320857.1551943821; _gat=1; _ym_visorc_37014950=w; _ym_isad=2; _fbp=fb.1.1551943821607.430897960; intercom-id-fabgminz=649f2b7c-d940-4380-9d9b-52dddb2da1cd\",\n",
    "\"Host\" : \"rest.epicstars.com\",\n",
    "\"Origin\" : \"https://apps.epicstars.com\",\n",
    "\"Referer\" : \"https://apps.epicstars.com/search/\",\n",
    "\"User-Agent\" : \"Mozilla/5.0 (Windows NT 10.0; Win64; x64; rv:64.0) Gecko/20100101 Firefox/64.0\",\n",
    "\"X-CSRFToken\" : \"null\"\n",
    "}"
   ]
  },
  {
   "cell_type": "code",
   "execution_count": 49,
   "metadata": {},
   "outputs": [],
   "source": [
    "headers = {\n",
    "    \"accept\": \"*/*\",\n",
    "    \"x-requested-with\": \"XMLHttpRequest\",\n",
    "    \"x-instagram-gis\": \"6abe25e6e9649d2e8b6521b636326834\",\n",
    "    \"user-agent\": \"Mozilla/5.0 (Windows NT 10.0; Win64; x64) AppleWebKit/537.36 (KHTML, like Gecko) Chrome/70.0.3538.67 Safari/537.36\",\n",
    "    \"referer\": \"https://www.instagram.com/instagram/\",\n",
    "    \"accept-encoding\": \"gzip, deflate, br\",\n",
    "    \"accept-language\": \"ru-RU,ru;q=0.9,en-US;q=0.8,en;q=0.7\",\n",
    "    \"cookie\": \"mcd=3; mid=W6tiMgALAAE5eZspP9rbMcTfXKp3; fbm_124024574287414=base_domain=.instagram.com; shbid=16858; csrftoken=mC2iZL13rNvMU2MDM2Dro0Ut4nvNEs3w; ds_user_id=5535478546; sessionid=5535478546%3ANpFXGgzNvHo1Q7%3A8; rur=ATN; fbsr_124024574287414=qfc2foOn9HF36MwYdm1a95YSUZfd98AFSk3QkxMMo5U.eyJhbGdvcml0aG0iOiJITUFDLVNIQTI1NiIsImNvZGUiOiJBUUNZZURzRzNLVWdMRjRWRlNwT3dxUHlhUW9penRtRENxclJiaW1uQXdwSjV3TnF3MWV0LTUyV2JsVXVPMjg1UmZFaGtPRGwtYXRqUDBob181Q3NsOHFHZmpyQzVqcklrbDE4YkF4c2s3VXVVQlNpak5LOFdwemZjd0xOSkZyaC1YeGVVV1k3YUoxNFl6MFFmMUNPNEhFNVVJS2gxSExBLUNYUmVmeHJfMEkwWmhsZUlTQmJHS2F2NVBudU5jUXFuRFd4Yk1YY1lWUDFMcDhuSnp3T3FtbFRTYkJyWGhTdFl4WW9nM0hGZlg3NmdUdnRDMXh1UlRGVjlXV0hSbUJUQnBuam5aQkZXUHJlczdLMnVEY0l4TDVtMnNlSjAyWm5BdkRsSVhMMTNXX3NldjVRODh2NjBtR2Q3VTVXUDJ4SVFDbWxXNWMwVmdveW5mY1ZvS3F2d2tCcSIsImlzc3VlZF9hdCI6MTU0MDM3MTM4NSwidXNlcl9pZCI6IjEwMDAyNzU3MzE4Mjg0MiJ9; urlgen=\\\"{\\\"62.231.11.2\\\": 3216\\054 \\\"207.66.105.79\\\": 42831\\054 \\\"207.66.104.51\\\": 42831\\054 \\\"158.115.252.13\\\": 60558}:1gFEyF:w22Ja_5PfHFdKblcE_hre41gYjk\\\"\",\n",
    "    \"cache-control\": \"no-cache\",\n",
    "    \"postman-token\": \"2988cf18-cd89-ddda-b75d-4fea096fe686\"\n",
    "    }\n"
   ]
  },
  {
   "cell_type": "code",
   "execution_count": 6,
   "metadata": {},
   "outputs": [],
   "source": [
    "resp = requests.get(url, headers=headers)"
   ]
  },
  {
   "cell_type": "code",
   "execution_count": 9,
   "metadata": {
    "scrolled": false
   },
   "outputs": [
    {
     "data": {
      "text/plain": [
       "{'id': 77600,\n",
       " 'url': 'https://rest.epicstars.com/api/v1/users/platform/77600/',\n",
       " 'user': 'https://rest.epicstars.com/api/v1/users/133323/',\n",
       " 'platform': {'id': 46825,\n",
       "  'userid': '2002836254',\n",
       "  'username': 'natalia_foodblogger',\n",
       "  'full_name': '🍽Food Blogger|🌿Счастливая Мама',\n",
       "  'avatar': 'https://scontent.cdninstagram.com/vp/fe88964a044385c283e5872bd7441a39/5D681CB1/t51.2885-19/s150x150/54800539_347821465857169_8624181596066414592_n.jpg?_nc_ht=scontent.cdninstagram.com',\n",
       "  'bio': '🙋🏼\\u200d♀️Наталья #вкусноисытноотнатальи\\n✌🏻Вкусно жить не запретишь!\\n👩\\u200d🍳Готовлю с душой и снимаю красиво\\n🤝Сотрудничество👉🏻DIRECT\\n💛Смачные сторис ежедневно!',\n",
       "  'website': '',\n",
       "  'media_count': 471,\n",
       "  'follows_count': 348,\n",
       "  'subscriber_count': 15846,\n",
       "  'engagement_rate': '0.0735832',\n",
       "  'approval_rate': '0.0690080',\n",
       "  'discussion_rate': '0.0031554',\n",
       "  'male_percentage': '0.00',\n",
       "  'female_percentage': '0.00'},\n",
       " 'status': 'confirmed',\n",
       " 'updated': '2019-05-11T20:33:59.058626',\n",
       " 'contacts': [{'contact': '+79258633686', 'type': 'whatsapp'},\n",
       "  {'contact': 'Natulechka86@yandex.ru', 'type': 'email'}],\n",
       " 'description': '<p></p><ul><li>Наталья foodblogger.\\xa0<br></li></ul><p></p><p>Веду фудблог в Инстаграмм. На моей страничке помимо простых и разных рецептов есть несколько интересных рубрик.\\xa0</p><p>Ежедневно стараюсь удивлять красивыми фото и видео рецептов своих подписчиков! В день обычно выкладываю два поста. Активно веду сторис.\\xa0</p><p>Шлите сделку, пишите в чат - буду рада рассказать подробности!</p> <br><br>',\n",
       " 'price': [{'id': 315934,\n",
       "   'url': 'https://rest.epicstars.com/api/v1/users/price/315934/',\n",
       "   'price': 2000,\n",
       "   'type': 'special_project',\n",
       "   'type_display': 'Special project',\n",
       "   'platform': 'https://rest.epicstars.com/api/v1/users/platform/77600/'},\n",
       "  {'id': 196452,\n",
       "   'url': 'https://rest.epicstars.com/api/v1/users/price/196452/',\n",
       "   'price': 1300,\n",
       "   'type': 'integration',\n",
       "   'type_display': 'Integration',\n",
       "   'platform': 'https://rest.epicstars.com/api/v1/users/platform/77600/'},\n",
       "  {'id': 193701,\n",
       "   'url': 'https://rest.epicstars.com/api/v1/users/price/193701/',\n",
       "   'price': 1300,\n",
       "   'type': 'full_review',\n",
       "   'type_display': 'Full review',\n",
       "   'platform': 'https://rest.epicstars.com/api/v1/users/platform/77600/'}],\n",
       " 'invited': None,\n",
       " 'top': False,\n",
       " 'agency': None,\n",
       " 'agency_display': None,\n",
       " 'grade': '5.00',\n",
       " 'tags': [{'id': 2, 'label': 'Блоги'},\n",
       "  {'id': 24, 'label': 'Кино и Сериалы'},\n",
       "  {'id': 11, 'label': 'Кулинария'}],\n",
       " 'type': 'Instagram',\n",
       " 'lists': [],\n",
       " 'rating': '0.00',\n",
       " 'target_audience': {'view_rate': None, 'subscribers_count': None},\n",
       " 'is_public': True,\n",
       " 'feedback_count': 6,\n",
       " 'permitted_payments_method': ['for_money', 'for_product'],\n",
       " 'limited_functionality': False,\n",
       " 'complete_deal_count': 8,\n",
       " 'city': {'id': 17162,\n",
       "  'name': 'Moscow',\n",
       "  'population': 10381222,\n",
       "  'latitude': '55.75222',\n",
       "  'longitude': '37.61556',\n",
       "  'country': {'id': 192, 'name': 'Russia', 'code': 'RU'},\n",
       "  'region': {'id': 2848, 'name': 'Moscow'}},\n",
       " 'portfolio_deal_count': 7}"
      ]
     },
     "execution_count": 9,
     "metadata": {},
     "output_type": "execute_result"
    }
   ],
   "source": [
    "resp.json()['results'][0]"
   ]
  }
 ],
 "metadata": {
  "kernelspec": {
   "display_name": "Python 3",
   "language": "python",
   "name": "python3"
  },
  "language_info": {
   "codemirror_mode": {
    "name": "ipython",
    "version": 3
   },
   "file_extension": ".py",
   "mimetype": "text/x-python",
   "name": "python",
   "nbconvert_exporter": "python",
   "pygments_lexer": "ipython3",
   "version": "3.6.8"
  }
 },
 "nbformat": 4,
 "nbformat_minor": 2
}

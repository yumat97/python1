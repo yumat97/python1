{
 "cells": [
  {
   "cell_type": "code",
   "execution_count": 3,
   "metadata": {},
   "outputs": [
    {
     "name": "stdout",
     "output_type": "stream",
     "text": [
      "Enter your list: \n",
      "56 y u\n",
      "['56', 'u']\n"
     ]
    }
   ],
   "source": [
    "#task 12\n",
    "\n",
    "def func(arr):\n",
    "    return [arr[0], arr[-1]]\n",
    "print(\"Enter your list: \")\n",
    "arr = input().split();\n",
    "print(func(arr))"
   ]
  },
  {
   "cell_type": "code",
   "execution_count": null,
   "metadata": {},
   "outputs": [],
   "source": []
  },
  {
   "cell_type": "code",
   "execution_count": 2,
   "metadata": {},
   "outputs": [
    {
     "name": "stdout",
     "output_type": "stream",
     "text": [
      "Enter your number 5\n",
      "Too low\n",
      "Enter your number 6\n",
      "Too low\n",
      "Enter your number 8\n",
      "Too high\n",
      "Enter your number 7\n",
      "You guessed for 4 attempts\n"
     ]
    }
   ],
   "source": [
    "#task 9\n",
    "\n",
    "import random\n",
    "\n",
    "n = 0\n",
    "number = random.randint(1,9)\n",
    "while 1:\n",
    "    user_number = int(input(\"Enter your number \"))\n",
    "    n += 1\n",
    "    if (number == \"exit\"):\n",
    "        print(\"Goodbye\")\n",
    "        break\n",
    "    if (number == user_number):\n",
    "        print(\"You guessed for \" + str(n) + \" attempts\")\n",
    "        break\n",
    "    if (number < user_number):\n",
    "        print(\"Too high\")\n",
    "    else:\n",
    "        print(\"Too low\")"
   ]
  },
  {
   "cell_type": "code",
   "execution_count": 10,
   "metadata": {},
   "outputs": [
    {
     "name": "stdout",
     "output_type": "stream",
     "text": [
      "How many Fibonacci numbers do you want to generate? 20\n",
      "[1, 1, 2, 3, 5, 8, 13, 21, 34, 55, 89, 144, 233, 377, 610, 987, 1597, 2584, 4181, 6765]\n"
     ]
    }
   ],
   "source": [
    "#task 13\n",
    "\n",
    "n = int(input(\"How many Fibonacci numbers do you want to generate? \"))\n",
    "def fib(a, i):\n",
    "    if (n == 0):\n",
    "        return []\n",
    "    if (n == 1):\n",
    "        return [1]\n",
    "    if (i == n - 1):\n",
    "        return a\n",
    "    a.append(a[i] + a[i - 1])\n",
    "    return fib(a, i + 1)\n",
    "print(fib([1, 1], 1))"
   ]
  },
  {
   "cell_type": "code",
   "execution_count": 6,
   "metadata": {},
   "outputs": [
    {
     "name": "stdout",
     "output_type": "stream",
     "text": [
      "How many symbols do you want in your password? 2\n",
      "Password from less than 4 symbols is very weak\n",
      "How many symbols do you want in your password? 7\n",
      "ww|X2P4\n"
     ]
    }
   ],
   "source": [
    "#task 16\n",
    "\n",
    "import random\n",
    "\n",
    "letters_small = \"abcdefghijklmnopqrstuvwxyz\"\n",
    "letters_large = \"ABCDEFGHIJKLMNOPQRSTUVWXYZ\"\n",
    "digits = \"0123456789\"\n",
    "symbols = \"!@#$%^&*()?/\\|-_=+:;<>.\"\n",
    "n = int(input(\"How many symbols do you want in your password? \"))\n",
    "while (n < 4):\n",
    "    print(\"Password from less than 4 symbols is very weak\")\n",
    "    n = int(input(\"How many symbols do you want in your password? \"))\n",
    "a = [i for i in range(n)]\n",
    "b = random.sample(a, 4)\n",
    "password = \"\"\n",
    "for i in range(n):\n",
    "    if (i == b[0]):\n",
    "        password += random.choice(letters_small)\n",
    "        continue\n",
    "    if (i == b[1]):\n",
    "        password += random.choice(letters_large)\n",
    "        continue\n",
    "    if (i == b[2]):\n",
    "        password += random.choice(digits)\n",
    "        continue\n",
    "    if (i == b[3]):\n",
    "        password += random.choice(symbols)\n",
    "        continue\n",
    "    password += random.choice(letters_small + letters_large + digits + symbols)\n",
    "print(password)"
   ]
  }
 ],
 "metadata": {
  "kernelspec": {
   "display_name": "Python 3",
   "language": "python",
   "name": "python3"
  },
  "language_info": {
   "codemirror_mode": {
    "name": "ipython",
    "version": 3
   },
   "file_extension": ".py",
   "mimetype": "text/x-python",
   "name": "python",
   "nbconvert_exporter": "python",
   "pygments_lexer": "ipython3",
   "version": "3.6.5"
  }
 },
 "nbformat": 4,
 "nbformat_minor": 2
}
